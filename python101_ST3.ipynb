{
  "nbformat": 4,
  "nbformat_minor": 0,
  "metadata": {
    "colab": {
      "provenance": [],
      "authorship_tag": "ABX9TyPDrgj+5qqKgriRH3OQwHL6",
      "include_colab_link": true
    },
    "kernelspec": {
      "name": "python3",
      "display_name": "Python 3"
    },
    "language_info": {
      "name": "python"
    }
  },
  "cells": [
    {
      "cell_type": "markdown",
      "metadata": {
        "id": "view-in-github",
        "colab_type": "text"
      },
      "source": [
        "<a href=\"https://colab.research.google.com/github/sule31231021799/lephuocsu/blob/main/python101_ST3.ipynb\" target=\"_parent\"><img src=\"https://colab.research.google.com/assets/colab-badge.svg\" alt=\"Open In Colab\"/></a>"
      ]
    },
    {
      "cell_type": "markdown",
      "source": [
        "# Python 101"
      ],
      "metadata": {
        "id": "F0zFEdOW0X5F"
      }
    },
    {
      "cell_type": "markdown",
      "source": [
        "## compiler"
      ],
      "metadata": {
        "id": "GWPmLfyj0TaF"
      }
    },
    {
      "cell_type": "markdown",
      "source": [],
      "metadata": {
        "id": "Am9M_yvf0O_N"
      }
    },
    {
      "cell_type": "code",
      "source": [
        "%%writefile first.cpp\n",
        "#include\n",
        "int main(void) {\n",
        "  int a=27, b=6, c;\n",
        "  c = a%b;\n",
        "  printf(\"The value of c is %d.\\n\", c);\n",
        "  return 0;\n",
        "}\n"
      ],
      "metadata": {
        "colab": {
          "base_uri": "https://localhost:8080/"
        },
        "id": "MVzrmAxs4Bxm",
        "outputId": "13d1edeb-521c-46e1-d929-05078ea9603a"
      },
      "execution_count": null,
      "outputs": [
        {
          "output_type": "stream",
          "name": "stdout",
          "text": [
            "Overwriting first.cpp\n"
          ]
        }
      ]
    },
    {
      "cell_type": "code",
      "source": [
        "!cat first.cpp\n",
        "print(\"-\"*50)\n",
        "\n",
        "print('Compile...')\n",
        "!gcc first.cpp -o first\n",
        "!ls\n",
        "\n",
        "print(\"-\"*50)\n",
        "print('Execute...')\n",
        "!./first\n",
        "\n"
      ],
      "metadata": {
        "colab": {
          "base_uri": "https://localhost:8080/"
        },
        "id": "rHH_sCL64JvX",
        "outputId": "542e9279-0639-4c7e-996a-0289ab420f46"
      },
      "execution_count": null,
      "outputs": [
        {
          "output_type": "stream",
          "name": "stdout",
          "text": [
            "#include \n",
            "int main(void) {\n",
            "  int a=27, b=6, c;\n",
            "  c = a%b;\n",
            "  printf(\"The value of c is %d.\\n\", c);\n",
            "  return 0;\n",
            "}\n",
            "     \n",
            "--------------------------------------------------\n",
            "Compile...\n",
            "\u001b[01m\u001b[Kfirst.cpp:1:10:\u001b[m\u001b[K \u001b[01;31m\u001b[Kerror: \u001b[m\u001b[K#include expects \"FILENAME\" or <FILENAME>\n",
            "    1 | #include\n",
            "      |          \u001b[01;31m\u001b[K^\u001b[m\u001b[K\n",
            "\u001b[01m\u001b[Kfirst.cpp:\u001b[m\u001b[K In function ‘\u001b[01m\u001b[Kint main()\u001b[m\u001b[K’:\n",
            "\u001b[01m\u001b[Kfirst.cpp:5:3:\u001b[m\u001b[K \u001b[01;31m\u001b[Kerror: \u001b[m\u001b[K‘\u001b[01m\u001b[Kprintf\u001b[m\u001b[K’ was not declared in this scope\n",
            "    5 |   \u001b[01;31m\u001b[Kprintf\u001b[m\u001b[K(\"The value of c is %d.\\n\", c);\n",
            "      |   \u001b[01;31m\u001b[K^~~~~~\u001b[m\u001b[K\n",
            "\u001b[01m\u001b[Kfirst.cpp:1:1:\u001b[m\u001b[K \u001b[01;36m\u001b[Knote: \u001b[m\u001b[K‘\u001b[01m\u001b[Kprintf\u001b[m\u001b[K’ is defined in header ‘\u001b[01m\u001b[K<cstdio>\u001b[m\u001b[K’; did you forget to ‘\u001b[01m\u001b[K#include <cstdio>\u001b[m\u001b[K’?\n",
            "  +++ |+\u001b[32m\u001b[K#include <cstdio>\u001b[m\u001b[K\n",
            "    1 | #include\n",
            "first.cpp  first.py  sample_data\n",
            "--------------------------------------------------\n",
            "Execute...\n",
            "/bin/bash: line 1: ./first: No such file or directory\n"
          ]
        }
      ]
    },
    {
      "cell_type": "code",
      "execution_count": null,
      "metadata": {
        "colab": {
          "base_uri": "https://localhost:8080/"
        },
        "id": "DdKRpzAyz1BJ",
        "outputId": "4acff2c6-942b-4428-e66c-8e9df9e62b8a"
      },
      "outputs": [
        {
          "output_type": "stream",
          "name": "stdout",
          "text": [
            "Writing first.py\n"
          ]
        }
      ],
      "source": [
        "%%writefile first.py\n",
        "a = 27\n",
        "b = 6\n",
        "c = a%b;\n",
        "print(\"The value of c is %d.\\n\"% c)\n",
        "\n"
      ]
    },
    {
      "cell_type": "markdown",
      "source": [
        "## Ngôn ngữ lập trình"
      ],
      "metadata": {
        "id": "Qx8M-EdW4fAa"
      }
    },
    {
      "cell_type": "code",
      "source": [
        "print(\"Hello, World!\")\n",
        "display('Hello, World')"
      ],
      "metadata": {
        "colab": {
          "base_uri": "https://localhost:8080/",
          "height": 52
        },
        "id": "woh0sQzl4RtJ",
        "outputId": "463d1236-75ac-4a78-e677-b05a2ed05a3d"
      },
      "execution_count": null,
      "outputs": [
        {
          "output_type": "stream",
          "name": "stdout",
          "text": [
            "Hello, World!\n"
          ]
        },
        {
          "output_type": "display_data",
          "data": {
            "text/plain": [
              "'Hello, World'"
            ],
            "application/vnd.google.colaboratory.intrinsic+json": {
              "type": "string"
            }
          },
          "metadata": {}
        }
      ]
    },
    {
      "cell_type": "code",
      "source": [],
      "metadata": {
        "id": "82wjMjhd4kh_"
      },
      "execution_count": null,
      "outputs": []
    },
    {
      "cell_type": "code",
      "source": [
        "from google.colab import drive\n",
        "drive.mount('/content/drive')"
      ],
      "metadata": {
        "id": "Wju94Nhl5YXp"
      },
      "execution_count": null,
      "outputs": []
    },
    {
      "cell_type": "code",
      "source": [
        "# comment\n",
        "'''\n",
        "comment\n",
        "'''\n",
        "print('comment')"
      ],
      "metadata": {
        "colab": {
          "base_uri": "https://localhost:8080/"
        },
        "id": "Lmv9tYDr6mHl",
        "outputId": "8faf803c-3ada-487b-c813-87ea8d464953"
      },
      "execution_count": 9,
      "outputs": [
        {
          "output_type": "stream",
          "name": "stdout",
          "text": [
            "comment\n"
          ]
        }
      ]
    },
    {
      "cell_type": "code",
      "source": [
        "# indent\n",
        "score = 80\n",
        "if score >= 60:\n",
        "  print('Pass')\n",
        "  pass # dummy"
      ],
      "metadata": {
        "colab": {
          "base_uri": "https://localhost:8080/"
        },
        "id": "ZCZp4bOv6tBD",
        "outputId": "f30aa20b-48e9-4e90-8379-939865482201"
      },
      "execution_count": 13,
      "outputs": [
        {
          "output_type": "stream",
          "name": "stdout",
          "text": [
            "Pass\n"
          ]
        }
      ]
    },
    {
      "cell_type": "code",
      "source": [
        "# variable\n",
        "x = 2\n",
        "price = 2.5\n",
        "\n",
        "word = 'Hello'\n",
        "word = \"Hello\"\n",
        "print(word, type(word))\n",
        "word = \"\"\"\n",
        "Hello\n",
        "\"\"\"\n",
        "print(word, type(word))"
      ],
      "metadata": {
        "colab": {
          "base_uri": "https://localhost:8080/"
        },
        "id": "nOyBMu0o6Uut",
        "outputId": "ab7d4f0e-26c2-4c95-b941-17e40311faf6"
      },
      "execution_count": 15,
      "outputs": [
        {
          "output_type": "stream",
          "name": "stdout",
          "text": [
            "Hello <class 'str'>\n",
            "\n",
            "Hello\n",
            " <class 'str'>\n"
          ]
        }
      ]
    },
    {
      "cell_type": "code",
      "source": [
        "x = 2\n",
        "y = x + 1\n",
        "print(f'x = {x}, y = {y}')\n",
        "print('x = %d, y = %d'%(x,y))"
      ],
      "metadata": {
        "colab": {
          "base_uri": "https://localhost:8080/"
        },
        "id": "FYfjsUi-7hFJ",
        "outputId": "f8aaede4-98c3-4953-97bf-5cb12ddb5f86"
      },
      "execution_count": 21,
      "outputs": [
        {
          "output_type": "stream",
          "name": "stdout",
          "text": [
            "x = 2, y = 3\n",
            "x = 2, y = 3\n"
          ]
        }
      ]
    },
    {
      "cell_type": "code",
      "source": [
        "# comment\n",
        "from platform import python_version\n",
        "print(\"Python Version:\", python_version())"
      ],
      "metadata": {
        "colab": {
          "base_uri": "https://localhost:8080/"
        },
        "id": "mXOD8Nm-7xYQ",
        "outputId": "9c89a2c9-aa7f-4ff0-ba99-4de8b5b41b0e"
      },
      "execution_count": 22,
      "outputs": [
        {
          "output_type": "stream",
          "name": "stdout",
          "text": [
            "Python Version: 3.11.13\n"
          ]
        }
      ]
    },
    {
      "cell_type": "code",
      "source": [
        "x = \"Hello World\" #str\n",
        "print(x, type(x))\n",
        "x = 2 #int\n",
        "print(x, type(x))\n",
        "x = 2.5 #float\n",
        "print(x, type(x))\n",
        "x = 7j + 3 #complex\n",
        "print(x, type(x))"
      ],
      "metadata": {
        "colab": {
          "base_uri": "https://localhost:8080/"
        },
        "id": "8wiV8rz49Whw",
        "outputId": "34672ebf-e93d-491f-9082-450035ecdbc5"
      },
      "execution_count": 27,
      "outputs": [
        {
          "output_type": "stream",
          "name": "stdout",
          "text": [
            "Hello World <class 'str'>\n",
            "2 <class 'int'>\n",
            "2.5 <class 'float'>\n",
            "(3+7j) <class 'complex'>\n"
          ]
        }
      ]
    },
    {
      "cell_type": "code",
      "source": [
        "x = [\"apple\", \"banana\", \"cherry\"] #list: chứa các đối tượng khác\n",
        "print(x, x[2])\n",
        "x = (\"apple\", \"banana\", \"cherry\") #tuple: chứa các đối tượng khác, readonly\n",
        "# x[2] = 10 # error\n",
        "print(x, x[2])\n",
        "x = range(6) #range: r(6)=[0,5], r(min,max): [min,max)\n",
        "print(x, list(x)) # iterator: chỉ cấp phát khi sử dụng (kiểu iterator)\n",
        "x = {\"name\" : \"Tom\", \"age\" : 20} #dict {k,v}\n",
        "print(x, x['age'])\n",
        "x = {\"apple\", \"banana\", \"cherry\"} #set: không có giá trị trùng\n",
        "print(x)\n",
        "x = frozenset({\"apple\", \"banana\", \"cherry\"})\n",
        "#frozenset\n",
        "print(x)"
      ],
      "metadata": {
        "colab": {
          "base_uri": "https://localhost:8080/"
        },
        "id": "kxDwvKY19Zls",
        "outputId": "6b26cb3b-0f83-4aae-ed31-173827f415ba"
      },
      "execution_count": 29,
      "outputs": [
        {
          "output_type": "stream",
          "name": "stdout",
          "text": [
            "['apple', 'banana', 'cherry'] cherry\n",
            "('apple', 'banana', 'cherry') cherry\n",
            "range(0, 6) [0, 1, 2, 3, 4, 5]\n",
            "{'name': 'Tom', 'age': 20} 20\n",
            "{'cherry', 'banana', 'apple'}\n",
            "frozenset({'cherry', 'banana', 'apple'})\n"
          ]
        }
      ]
    },
    {
      "cell_type": "code",
      "source": [
        "x = True #bool\n",
        "print(x, type(x))\n",
        "x = b\"Hello\" #bytes\n",
        "print(x, type(x))\n",
        "x = bytearray(5) #bytearray\n",
        "print(x, type(x))\n",
        "x = memoryview(bytes(5)) #memoryview\n",
        "print(x, type(x))\n",
        "x = None #NoneType\n",
        "print(x, type(x))"
      ],
      "metadata": {
        "colab": {
          "base_uri": "https://localhost:8080/"
        },
        "id": "-W0v-O-n94LP",
        "outputId": "126af9d0-e439-438c-8f5d-bf6872ef6c57"
      },
      "execution_count": 32,
      "outputs": [
        {
          "output_type": "stream",
          "name": "stdout",
          "text": [
            "True <class 'bool'>\n",
            "b'Hello' <class 'bytes'>\n",
            "bytearray(b'\\x00\\x00\\x00\\x00\\x00') <class 'bytearray'>\n",
            "<memory at 0x7d2cb5fae380> <class 'memoryview'>\n",
            "None <class 'NoneType'>\n"
          ]
        }
      ]
    },
    {
      "cell_type": "markdown",
      "source": [
        "## Ép kiểu (Casting)"
      ],
      "metadata": {
        "id": "jWKr0Dyd_vz7"
      }
    },
    {
      "cell_type": "code",
      "source": [
        "x = str(3) # x will be '3'\n",
        "print(x, type(x))\n",
        "y = int(3) # y will be 3\n",
        "print(y, type(y))\n",
        "z = float(3) # z will be 3.0\n",
        "print(z, type(z))\n",
        "\n",
        "print(list(range(6)))\n",
        "print(set([1, 4 , 2, 1, 1, 2, 3, 4]))"
      ],
      "metadata": {
        "colab": {
          "base_uri": "https://localhost:8080/"
        },
        "id": "KXNhaJXb_P6n",
        "outputId": "3e94de9d-fd49-49e0-ed2c-bc1064b5d818"
      },
      "execution_count": 33,
      "outputs": [
        {
          "output_type": "stream",
          "name": "stdout",
          "text": [
            "3 <class 'str'>\n",
            "3 <class 'int'>\n",
            "3.0 <class 'float'>\n",
            "[0, 1, 2, 3, 4, 5]\n",
            "{1, 2, 3, 4}\n"
          ]
        }
      ]
    },
    {
      "cell_type": "code",
      "source": [
        "x = 2 # int\n",
        "print(x, type(x))\n",
        "y = 3.4 # float\n",
        "print(y, type(y))\n",
        "z = 7j #complex\n",
        "print(z, type(z))"
      ],
      "metadata": {
        "colab": {
          "base_uri": "https://localhost:8080/"
        },
        "id": "TjWVDgnW_2Bm",
        "outputId": "b88884bd-0a5f-4464-e70f-dfdd7063627f"
      },
      "execution_count": 34,
      "outputs": [
        {
          "output_type": "stream",
          "name": "stdout",
          "text": [
            "2 <class 'int'>\n",
            "3.4 <class 'float'>\n",
            "7j <class 'complex'>\n"
          ]
        }
      ]
    },
    {
      "cell_type": "code",
      "source": [
        "''' Arithmetic Operators\n",
        "Operator Name Example\n",
        "+ Addition 7 + 2 = 9\n",
        "- Subtraction 7 - 2 = 5\n",
        "* Multiplication 7 * 2 = 14\n",
        "/ Division 7 / 2 = 3.5\n",
        "// Floor division 7 // 2 = 3 (Quotient)\n",
        "% Modulus 7 % 2 = 1 (Remainder)\n",
        "** Exponentiation 7 ** 2 = 49\n",
        "'''"
      ],
      "metadata": {
        "colab": {
          "base_uri": "https://localhost:8080/",
          "height": 52
        },
        "id": "vLzUp4PtAfPf",
        "outputId": "1c5d99d3-9a8b-4292-a9bd-9ce60c5242ff"
      },
      "execution_count": 36,
      "outputs": [
        {
          "output_type": "execute_result",
          "data": {
            "text/plain": [
              "' Arithmetic Operators\\nOperator Name Example\\n+ Addition 7 + 2 = 9\\n- Subtraction 7 - 2 = 5\\n* Multiplication 7 * 2 = 14\\n/ Division 7 / 2 = 3.5\\n// Floor division 7 // 2 = 3 (Quotient)\\n% Modulus 7 % 2 = 1 (Remainder)\\n** Exponentiation 7 ** 2 = 49\\n'"
            ],
            "application/vnd.google.colaboratory.intrinsic+json": {
              "type": "string"
            }
          },
          "metadata": {},
          "execution_count": 36
        }
      ]
    },
    {
      "cell_type": "code",
      "source": [
        "print('7 + 2 =', 7 + 2)\n",
        "print('7 - 2 =', 7 - 2)\n",
        "print('7 * 2 =', 7 * 2)\n",
        "print('7 / 2 =', 7 / 2)\n",
        "print('7 // 2 =', 7 // 2)\n",
        "print('7 % 2 =', 7 % 2)\n",
        "print('7 ** 2 =', 7 ** 2)"
      ],
      "metadata": {
        "colab": {
          "base_uri": "https://localhost:8080/"
        },
        "id": "XTPHfqa8AvV-",
        "outputId": "74179e2b-ced6-4606-c400-389aaacca0e0"
      },
      "execution_count": 37,
      "outputs": [
        {
          "output_type": "stream",
          "name": "stdout",
          "text": [
            "7 + 2 = 9\n",
            "7 - 2 = 5\n",
            "7 * 2 = 14\n",
            "7 / 2 = 3.5\n",
            "7 // 2 = 3\n",
            "7 % 2 = 1\n",
            "7 ** 2 = 49\n"
          ]
        }
      ]
    },
    {
      "cell_type": "code",
      "source": [
        "# Python Booleans: True or False\n",
        "print(3 > 2)\n",
        "print(3 == 2)\n",
        "print(3 < 2)"
      ],
      "metadata": {
        "colab": {
          "base_uri": "https://localhost:8080/"
        },
        "id": "QUDv3dTdA6U3",
        "outputId": "c085a39f-2b26-4d7c-c2d6-14c490b38e6f"
      },
      "execution_count": 38,
      "outputs": [
        {
          "output_type": "stream",
          "name": "stdout",
          "text": [
            "True\n",
            "False\n",
            "False\n"
          ]
        }
      ]
    },
    {
      "cell_type": "code",
      "source": [
        "# Tính toán BMI\n",
        "# input\n",
        "height_cm =  170\n",
        "weight_kg = 60\n",
        "# process\n",
        "height_m = height_cm / 100\n",
        "bmi = (weight_kg / (height_m ** 2))\n",
        "\n",
        "#result\n",
        "print(\"Your BMI is: \" + str(round(bmi,1)))"
      ],
      "metadata": {
        "colab": {
          "base_uri": "https://localhost:8080/"
        },
        "id": "XomjQjsCA9KP",
        "outputId": "e44b945c-5606-40e5-c805-f830d6590816"
      },
      "execution_count": 41,
      "outputs": [
        {
          "output_type": "stream",
          "name": "stdout",
          "text": [
            "Your BMI is: 20.8\n"
          ]
        }
      ]
    },
    {
      "cell_type": "code",
      "source": [
        "# How much is your $100 worth after 7 years?\n",
        "fv = 100 * 1.1 ** 7\n",
        "print('fv = ', round(fv, 2))\n",
        "# output = 194.87\n"
      ],
      "metadata": {
        "colab": {
          "base_uri": "https://localhost:8080/"
        },
        "id": "G4HarkSHCiLh",
        "outputId": "03ab13b5-7c6c-429f-b1f9-2a8f58856c1e"
      },
      "execution_count": 42,
      "outputs": [
        {
          "output_type": "stream",
          "name": "stdout",
          "text": [
            "fv =  194.87\n"
          ]
        }
      ]
    },
    {
      "cell_type": "code",
      "source": [
        "# Future Value\n",
        "pv = 100\n",
        "r = 0.1\n",
        "n = 7\n",
        "fv = pv * ((1 + (r)) ** n)\n",
        "print(round(fv, 2))"
      ],
      "metadata": {
        "colab": {
          "base_uri": "https://localhost:8080/"
        },
        "id": "B5W9rY1gCi5K",
        "outputId": "ae388b16-07c0-4b84-c52c-edfe6dda8ce5"
      },
      "execution_count": 43,
      "outputs": [
        {
          "output_type": "stream",
          "name": "stdout",
          "text": [
            "194.87\n"
          ]
        }
      ]
    },
    {
      "cell_type": "code",
      "source": [
        "# Future Value\n",
        "amount = 100\n",
        "interest = 10 #10% = 0.01 * 10\n",
        "years = 7\n",
        "future_value = amount * ((1 + (0.01 * interest)) ** years)\n",
        "print(round(future_value, 2))"
      ],
      "metadata": {
        "colab": {
          "base_uri": "https://localhost:8080/"
        },
        "id": "emjzJxf4Crwy",
        "outputId": "c6f685cd-bc16-4ebc-f916-b4407c00d31c"
      },
      "execution_count": 44,
      "outputs": [
        {
          "output_type": "stream",
          "name": "stdout",
          "text": [
            "194.87\n"
          ]
        }
      ]
    },
    {
      "cell_type": "markdown",
      "source": [
        "## Data Structures"
      ],
      "metadata": {
        "id": "Nzp9TqF5DTD4"
      }
    },
    {
      "cell_type": "code",
      "source": [
        "x = [\"apple\", \"banana\", \"cherry\"] #list\n",
        "print(x, type(x))\n",
        "x = (\"apple\", \"banana\", \"cherry\") #tuple\n",
        "print(x, type(x))\n",
        "x = {\"name\" : \"Tom\", \"age\" : 20} #dict\n",
        "print(x, type(x))\n",
        "x = {\"apple\", \"banana\", \"cherry\"} #set\n",
        "print(x, type(x))"
      ],
      "metadata": {
        "colab": {
          "base_uri": "https://localhost:8080/"
        },
        "id": "IQRsfqd3DXGh",
        "outputId": "d91a1d2a-24e3-429b-91fd-0a66c6641881"
      },
      "execution_count": 45,
      "outputs": [
        {
          "output_type": "stream",
          "name": "stdout",
          "text": [
            "['apple', 'banana', 'cherry'] <class 'list'>\n",
            "('apple', 'banana', 'cherry') <class 'tuple'>\n",
            "{'name': 'Tom', 'age': 20} <class 'dict'>\n",
            "{'cherry', 'banana', 'apple'} <class 'set'>\n"
          ]
        }
      ]
    },
    {
      "cell_type": "code",
      "source": [
        "x = [60, 70, 80, 90]\n",
        "print(len(x))\n",
        "print(x[0])\n",
        "print(x[1])\n",
        "print(x[-1])\n",
        "print(x[1:3])\n",
        "print(x[-2:-4:-1])\n",
        "print(x[:-1], x[:], x[::-1])"
      ],
      "metadata": {
        "colab": {
          "base_uri": "https://localhost:8080/"
        },
        "id": "KRfDfq0WDiCr",
        "outputId": "ae3cf4d9-c7d0-4c13-af28-71f9ea3af6b2"
      },
      "execution_count": 50,
      "outputs": [
        {
          "output_type": "stream",
          "name": "stdout",
          "text": [
            "4\n",
            "60\n",
            "70\n",
            "90\n",
            "[70, 80]\n",
            "[80, 70]\n",
            "[60, 70, 80] [60, 70, 80, 90] [90, 80, 70, 60]\n"
          ]
        }
      ]
    },
    {
      "cell_type": "code",
      "source": [
        "a = [2, 3, 5]\n",
        "b = [1, 2]\n",
        "a.extend(b)\n",
        "a.append(10)\n",
        "print(a)"
      ],
      "metadata": {
        "colab": {
          "base_uri": "https://localhost:8080/"
        },
        "id": "ONlH5mtzD-Ud",
        "outputId": "39faa8ec-b9fc-41fa-d45b-8836a77e958b"
      },
      "execution_count": 51,
      "outputs": [
        {
          "output_type": "stream",
          "name": "stdout",
          "text": [
            "[2, 3, 5, 1, 2, 10]\n"
          ]
        }
      ]
    },
    {
      "cell_type": "code",
      "source": [
        "x = (10, 20, 30, 40, 50)\n",
        "print(x[0])\n",
        "print(x[1])\n",
        "print(x[2])\n",
        "print(x[-1])"
      ],
      "metadata": {
        "colab": {
          "base_uri": "https://localhost:8080/"
        },
        "id": "WW_zprX3E8E9",
        "outputId": "d816ce3e-d3ab-4cd9-e424-7ff84b76fdd7"
      },
      "execution_count": 52,
      "outputs": [
        {
          "output_type": "stream",
          "name": "stdout",
          "text": [
            "10\n",
            "20\n",
            "30\n",
            "50\n"
          ]
        }
      ]
    },
    {
      "cell_type": "code",
      "source": [
        "animals = {'cat', 'dog'}\n",
        "print('cat' in animals)\n",
        "print('fish' in animals)\n",
        "animals.add('fish')\n",
        "print('fish' in animals)\n",
        "print(len(animals))\n",
        "animals.add('cat')\n",
        "print(len(animals))\n",
        "animals.remove('cat')\n",
        "print(animals)\n",
        "print(len(animals))\n"
      ],
      "metadata": {
        "colab": {
          "base_uri": "https://localhost:8080/"
        },
        "id": "a8ifM2ukFKa2",
        "outputId": "45d08690-c5bd-457c-cefb-f287c1691aab"
      },
      "execution_count": 55,
      "outputs": [
        {
          "output_type": "stream",
          "name": "stdout",
          "text": [
            "True\n",
            "False\n",
            "True\n",
            "3\n",
            "3\n",
            "{'fish', 'dog'}\n",
            "2\n"
          ]
        }
      ]
    },
    {
      "cell_type": "code",
      "source": [
        "s = \"Hom nay la thu hai\"\n",
        "print(list(s))\n",
        "print(set(list(s)), len(set(list(s))))"
      ],
      "metadata": {
        "colab": {
          "base_uri": "https://localhost:8080/"
        },
        "id": "eNZkn-wAFOHw",
        "outputId": "cf602c99-7bdd-4e8d-aebc-5c120d9a74e3"
      },
      "execution_count": 57,
      "outputs": [
        {
          "output_type": "stream",
          "name": "stdout",
          "text": [
            "['H', 'o', 'm', ' ', 'n', 'a', 'y', ' ', 'l', 'a', ' ', 't', 'h', 'u', ' ', 'h', 'a', 'i']\n",
            "{'h', 'm', 'H', 'u', 'n', 'o', 'a', 'i', 't', 'l', 'y', ' '} 12\n"
          ]
        }
      ]
    },
    {
      "cell_type": "code",
      "source": [
        "# dictionary\n",
        "k = { 'EN':'English'\n",
        ",\n",
        "'FR':'French' }\n",
        "print(k['EN'])"
      ],
      "metadata": {
        "colab": {
          "base_uri": "https://localhost:8080/"
        },
        "id": "fIATYDb6FwgD",
        "outputId": "5e4aab79-3a4d-4ef0-90bb-a875fa4d6af0"
      },
      "execution_count": 60,
      "outputs": [
        {
          "output_type": "stream",
          "name": "stdout",
          "text": [
            "English\n"
          ]
        }
      ]
    },
    {
      "cell_type": "code",
      "source": [
        "s = \"Hom nay la thu hai\"\n",
        "d_cnt = {}\n",
        "for ci in list(s):\n",
        "    if d_cnt.get(ci) is None:\n",
        "      d_cnt[ci] = 1\n",
        "    else:\n",
        "      d_cnt[ci] = d_cnt[ci] + 1\n",
        "print(d_cnt)"
      ],
      "metadata": {
        "colab": {
          "base_uri": "https://localhost:8080/"
        },
        "id": "2GtyP4hCGBA3",
        "outputId": "0ed9bb24-733c-4777-97ad-f1433161c905"
      },
      "execution_count": 61,
      "outputs": [
        {
          "output_type": "stream",
          "name": "stdout",
          "text": [
            "{'H': 1, 'o': 1, 'm': 1, ' ': 4, 'n': 1, 'a': 3, 'y': 1, 'l': 1, 't': 1, 'h': 2, 'u': 1, 'i': 1}\n"
          ]
        }
      ]
    },
    {
      "cell_type": "code",
      "source": [
        "fruits = [\"apple\", \"banana\", \"cherry\"] #lists []\n",
        "print(fruits)\n",
        "colors = (\"red\", \"green\", \"blue\") #tuples ()\n",
        "print(colors)\n",
        "animals = {'cat', 'dog'} #sets {}\n",
        "print(animals)\n",
        "person = {\"name\" : \"Tom\", \"age\" : 20} #dictionaries {}\n",
        "print(person)\n"
      ],
      "metadata": {
        "colab": {
          "base_uri": "https://localhost:8080/"
        },
        "id": "7cm-5dcGGlFF",
        "outputId": "e3a2a6fe-46b9-4e63-ce02-9d2fc1d46ce5"
      },
      "execution_count": 63,
      "outputs": [
        {
          "output_type": "stream",
          "name": "stdout",
          "text": [
            "['apple', 'banana', 'cherry']\n",
            "('red', 'green', 'blue')\n",
            "{'dog', 'cat'}\n",
            "{'name': 'Tom', 'age': 20}\n"
          ]
        }
      ]
    },
    {
      "cell_type": "code",
      "source": [
        "import pandas as pd\n",
        "pd.DataFrame([person])"
      ],
      "metadata": {
        "colab": {
          "base_uri": "https://localhost:8080/",
          "height": 80
        },
        "id": "PBJL8oniGvRa",
        "outputId": "f78e19c0-cf5b-4f80-e350-32d3116fa5cb"
      },
      "execution_count": 64,
      "outputs": [
        {
          "output_type": "execute_result",
          "data": {
            "text/plain": [
              "  name  age\n",
              "0  Tom   20"
            ],
            "text/html": [
              "\n",
              "  <div id=\"df-e2899a24-e069-4944-b766-18a800400eb1\" class=\"colab-df-container\">\n",
              "    <div>\n",
              "<style scoped>\n",
              "    .dataframe tbody tr th:only-of-type {\n",
              "        vertical-align: middle;\n",
              "    }\n",
              "\n",
              "    .dataframe tbody tr th {\n",
              "        vertical-align: top;\n",
              "    }\n",
              "\n",
              "    .dataframe thead th {\n",
              "        text-align: right;\n",
              "    }\n",
              "</style>\n",
              "<table border=\"1\" class=\"dataframe\">\n",
              "  <thead>\n",
              "    <tr style=\"text-align: right;\">\n",
              "      <th></th>\n",
              "      <th>name</th>\n",
              "      <th>age</th>\n",
              "    </tr>\n",
              "  </thead>\n",
              "  <tbody>\n",
              "    <tr>\n",
              "      <th>0</th>\n",
              "      <td>Tom</td>\n",
              "      <td>20</td>\n",
              "    </tr>\n",
              "  </tbody>\n",
              "</table>\n",
              "</div>\n",
              "    <div class=\"colab-df-buttons\">\n",
              "\n",
              "  <div class=\"colab-df-container\">\n",
              "    <button class=\"colab-df-convert\" onclick=\"convertToInteractive('df-e2899a24-e069-4944-b766-18a800400eb1')\"\n",
              "            title=\"Convert this dataframe to an interactive table.\"\n",
              "            style=\"display:none;\">\n",
              "\n",
              "  <svg xmlns=\"http://www.w3.org/2000/svg\" height=\"24px\" viewBox=\"0 -960 960 960\">\n",
              "    <path d=\"M120-120v-720h720v720H120Zm60-500h600v-160H180v160Zm220 220h160v-160H400v160Zm0 220h160v-160H400v160ZM180-400h160v-160H180v160Zm440 0h160v-160H620v160ZM180-180h160v-160H180v160Zm440 0h160v-160H620v160Z\"/>\n",
              "  </svg>\n",
              "    </button>\n",
              "\n",
              "  <style>\n",
              "    .colab-df-container {\n",
              "      display:flex;\n",
              "      gap: 12px;\n",
              "    }\n",
              "\n",
              "    .colab-df-convert {\n",
              "      background-color: #E8F0FE;\n",
              "      border: none;\n",
              "      border-radius: 50%;\n",
              "      cursor: pointer;\n",
              "      display: none;\n",
              "      fill: #1967D2;\n",
              "      height: 32px;\n",
              "      padding: 0 0 0 0;\n",
              "      width: 32px;\n",
              "    }\n",
              "\n",
              "    .colab-df-convert:hover {\n",
              "      background-color: #E2EBFA;\n",
              "      box-shadow: 0px 1px 2px rgba(60, 64, 67, 0.3), 0px 1px 3px 1px rgba(60, 64, 67, 0.15);\n",
              "      fill: #174EA6;\n",
              "    }\n",
              "\n",
              "    .colab-df-buttons div {\n",
              "      margin-bottom: 4px;\n",
              "    }\n",
              "\n",
              "    [theme=dark] .colab-df-convert {\n",
              "      background-color: #3B4455;\n",
              "      fill: #D2E3FC;\n",
              "    }\n",
              "\n",
              "    [theme=dark] .colab-df-convert:hover {\n",
              "      background-color: #434B5C;\n",
              "      box-shadow: 0px 1px 3px 1px rgba(0, 0, 0, 0.15);\n",
              "      filter: drop-shadow(0px 1px 2px rgba(0, 0, 0, 0.3));\n",
              "      fill: #FFFFFF;\n",
              "    }\n",
              "  </style>\n",
              "\n",
              "    <script>\n",
              "      const buttonEl =\n",
              "        document.querySelector('#df-e2899a24-e069-4944-b766-18a800400eb1 button.colab-df-convert');\n",
              "      buttonEl.style.display =\n",
              "        google.colab.kernel.accessAllowed ? 'block' : 'none';\n",
              "\n",
              "      async function convertToInteractive(key) {\n",
              "        const element = document.querySelector('#df-e2899a24-e069-4944-b766-18a800400eb1');\n",
              "        const dataTable =\n",
              "          await google.colab.kernel.invokeFunction('convertToInteractive',\n",
              "                                                    [key], {});\n",
              "        if (!dataTable) return;\n",
              "\n",
              "        const docLinkHtml = 'Like what you see? Visit the ' +\n",
              "          '<a target=\"_blank\" href=https://colab.research.google.com/notebooks/data_table.ipynb>data table notebook</a>'\n",
              "          + ' to learn more about interactive tables.';\n",
              "        element.innerHTML = '';\n",
              "        dataTable['output_type'] = 'display_data';\n",
              "        await google.colab.output.renderOutput(dataTable, element);\n",
              "        const docLink = document.createElement('div');\n",
              "        docLink.innerHTML = docLinkHtml;\n",
              "        element.appendChild(docLink);\n",
              "      }\n",
              "    </script>\n",
              "  </div>\n",
              "\n",
              "\n",
              "    </div>\n",
              "  </div>\n"
            ],
            "application/vnd.google.colaboratory.intrinsic+json": {
              "type": "dataframe",
              "summary": "{\n  \"name\": \"pd\",\n  \"rows\": 1,\n  \"fields\": [\n    {\n      \"column\": \"name\",\n      \"properties\": {\n        \"dtype\": \"string\",\n        \"num_unique_values\": 1,\n        \"samples\": [\n          \"Tom\"\n        ],\n        \"semantic_type\": \"\",\n        \"description\": \"\"\n      }\n    },\n    {\n      \"column\": \"age\",\n      \"properties\": {\n        \"dtype\": \"number\",\n        \"std\": null,\n        \"min\": 20,\n        \"max\": 20,\n        \"num_unique_values\": 1,\n        \"samples\": [\n          20\n        ],\n        \"semantic_type\": \"\",\n        \"description\": \"\"\n      }\n    }\n  ]\n}"
            }
          },
          "metadata": {},
          "execution_count": 64
        }
      ]
    },
    {
      "cell_type": "code",
      "source": [
        "# Python Lists\n",
        "expenses = [72.50, 80.75, 50.00, 90.25]\n",
        "total_expenses = sum(expenses)\n",
        "print(\"Total expenses:\", total_expenses)"
      ],
      "metadata": {
        "colab": {
          "base_uri": "https://localhost:8080/"
        },
        "id": "WkkkmAkMHM-4",
        "outputId": "1e8a0122-b719-4b67-a9a3-5c1cee2d7d09"
      },
      "execution_count": 65,
      "outputs": [
        {
          "output_type": "stream",
          "name": "stdout",
          "text": [
            "Total expenses: 293.5\n"
          ]
        }
      ]
    },
    {
      "cell_type": "code",
      "source": [
        "# Python Tuples\n",
        "accounts = ((\"Cash\", 1001), (\"Accounts Receivable\", 1002),\n",
        "(\"Inventory\", 1003))\n",
        "for account in accounts:\n",
        "  print(\"Account name:\", account[0], \"Account number:\", account[1])"
      ],
      "metadata": {
        "colab": {
          "base_uri": "https://localhost:8080/"
        },
        "id": "7IkkRZ_AHzHE",
        "outputId": "1d7ef761-2d8e-45b4-d764-5ee0ce57e995"
      },
      "execution_count": 67,
      "outputs": [
        {
          "output_type": "stream",
          "name": "stdout",
          "text": [
            "Account name: Cash Account number: 1001\n",
            "Account name: Accounts Receivable Account number: 1002\n",
            "Account name: Inventory Account number: 1003\n"
          ]
        }
      ]
    },
    {
      "cell_type": "code",
      "source": [
        "account_numbers = set([account[1] for account in accounts]) # comprehensive\n",
        "account_numbers = {1001, 1002, 1003}\n",
        "new_account_number = 1004\n",
        "if new_account_number not in account_numbers:\n",
        "  print(\"Account number\", new_account_number, \"is not in use.\")"
      ],
      "metadata": {
        "colab": {
          "base_uri": "https://localhost:8080/"
        },
        "id": "l2bOYHR1IAXl",
        "outputId": "7dd3a2fb-141f-41fb-9840-e326aad8ae16"
      },
      "execution_count": 69,
      "outputs": [
        {
          "output_type": "stream",
          "name": "stdout",
          "text": [
            "Account number 1004 is not in use.\n"
          ]
        }
      ]
    },
    {
      "cell_type": "code",
      "source": [
        "# Python Dictionaries\n",
        "accounts = {\"1001\": {\"name\": \"Cash\", \"balance\": 500.00, \"type\": \"Asset\"},\n",
        "\"1002\": {\"name\": \"Accounts Receivable\", \"balance\": 1000.00, \"type\": \"Asset\"},\n",
        "\"2001\": {\"name\": \"Accounts Payable\", \"balance\": 750.00, \"type\": \"Liability\"}}\n",
        "rows = []\n",
        "for account_number, account_info in accounts.items():\n",
        "  print(\"Account number:\", account_number)\n",
        "  print(\"Account name:\", account_info[\"name\"])\n",
        "  print(\"Account balance:\", account_info[\"balance\"])\n",
        "  print(\"Account type:\", account_info[\"type\"])\n",
        "  print(\"-\"*20)\n",
        "  row = {'number': account_number, **account_info}\n",
        "  rows.append(row)"
      ],
      "metadata": {
        "colab": {
          "base_uri": "https://localhost:8080/"
        },
        "id": "YCBTPiQrIWGN",
        "outputId": "86d70424-f94b-4052-ad79-9da11b26f6d5"
      },
      "execution_count": 77,
      "outputs": [
        {
          "output_type": "stream",
          "name": "stdout",
          "text": [
            "Account number: 1001\n",
            "Account name: Cash\n",
            "Account balance: 500.0\n",
            "Account type: Asset\n",
            "--------------------\n",
            "Account number: 1002\n",
            "Account name: Accounts Receivable\n",
            "Account balance: 1000.0\n",
            "Account type: Asset\n",
            "--------------------\n",
            "Account number: 2001\n",
            "Account name: Accounts Payable\n",
            "Account balance: 750.0\n",
            "Account type: Liability\n",
            "--------------------\n"
          ]
        }
      ]
    },
    {
      "cell_type": "markdown",
      "source": [
        "## Python Control Logic and Loops"
      ],
      "metadata": {
        "id": "SAAJge5aKVGK"
      }
    },
    {
      "cell_type": "code",
      "source": [
        "a, b = 5, 2\n",
        "for a, b in [(5, 2), (5, 5), (2, 5)]:\n",
        "  print(\"<\", a < b) # a<b\n",
        "  print(\">\", a > b, b < a)\n",
        "  print(\">=\", a >= b, not(a < b))\n",
        "  print(\"<=\", a <= b, not(b < a))\n",
        "  print(\"==\", a == b, not (b<a) and not (a<b))\n",
        "  print(\"!=\", a != b, b<a or a<b)"
      ],
      "metadata": {
        "colab": {
          "base_uri": "https://localhost:8080/"
        },
        "id": "VL3UOF64In0u",
        "outputId": "5e33a45e-ddfe-49fa-ec7f-9e5fbf4bf170"
      },
      "execution_count": 83,
      "outputs": [
        {
          "output_type": "stream",
          "name": "stdout",
          "text": [
            "< False\n",
            "> True True\n",
            ">= True True\n",
            "<= False False\n",
            "== False False\n",
            "!= True True\n",
            "< False\n",
            "> False False\n",
            ">= True True\n",
            "<= True True\n",
            "== True True\n",
            "!= False False\n",
            "< True\n",
            "> False False\n",
            ">= False False\n",
            "<= True True\n",
            "== False False\n",
            "!= True True\n"
          ]
        }
      ]
    },
    {
      "cell_type": "code",
      "source": [
        "# Python if\n",
        "score = 80\n",
        "if score >=60 :\n",
        "  print(\"Pass\")"
      ],
      "metadata": {
        "colab": {
          "base_uri": "https://localhost:8080/"
        },
        "id": "5_6N3PnHL9PM",
        "outputId": "a4528fbe-30bc-411b-dd25-72392e061712"
      },
      "execution_count": 85,
      "outputs": [
        {
          "output_type": "stream",
          "name": "stdout",
          "text": [
            "Pass\n"
          ]
        }
      ]
    },
    {
      "cell_type": "code",
      "source": [
        "# Python if else\n",
        "score = 80\n",
        "if score >=60 :\n",
        "  print(\"Pass\")\n",
        "else:\n",
        "  print(\"Fail\")"
      ],
      "metadata": {
        "colab": {
          "base_uri": "https://localhost:8080/"
        },
        "id": "-egJ5qufL9qf",
        "outputId": "17aba83a-44d8-4870-a66d-7d62aeb70597"
      },
      "execution_count": 86,
      "outputs": [
        {
          "output_type": "stream",
          "name": "stdout",
          "text": [
            "Pass\n"
          ]
        }
      ]
    },
    {
      "cell_type": "code",
      "source": [
        "score = 95\n",
        "if score >= 90 :\n",
        "  print(\"A\")\n",
        "elif score >=60 :\n",
        "  print(\"Pass\")\n",
        "else:\n",
        "  print(\"Fail\")"
      ],
      "metadata": {
        "colab": {
          "base_uri": "https://localhost:8080/"
        },
        "id": "6eaYqBivMGQ2",
        "outputId": "487e6c95-3ead-47b9-f591-fbb6220e8776"
      },
      "execution_count": 88,
      "outputs": [
        {
          "output_type": "stream",
          "name": "stdout",
          "text": [
            "A\n"
          ]
        }
      ]
    },
    {
      "cell_type": "code",
      "source": [
        "# Python if elif else\n",
        "score = 90\n",
        "grade = \"\"\n",
        "if score >=90:\n",
        "  grade = \"A\"\n",
        "elif score >= 80:\n",
        "  grade = \"B\"\n",
        "elif score >= 70:\n",
        "  grade = \"C\"\n",
        "elif score >= 60:\n",
        "  grade = \"D\"\n",
        "else:\n",
        "  grade = \"E\"\n",
        "print(grade)"
      ],
      "metadata": {
        "colab": {
          "base_uri": "https://localhost:8080/"
        },
        "id": "TwnIiNhMMZkR",
        "outputId": "680e113a-6b24-4510-9d4c-69f0ff0a0722"
      },
      "execution_count": 90,
      "outputs": [
        {
          "output_type": "stream",
          "name": "stdout",
          "text": [
            "A\n"
          ]
        }
      ]
    },
    {
      "cell_type": "code",
      "source": [
        "# Python for Loops\n",
        "for i in range(1,6): # i in [1, 5]\n",
        "  print(i, end = \" \")"
      ],
      "metadata": {
        "colab": {
          "base_uri": "https://localhost:8080/"
        },
        "id": "mmkXK9JUMit5",
        "outputId": "049d8b48-7adc-4565-d669-b1b337dee9b4"
      },
      "execution_count": 93,
      "outputs": [
        {
          "output_type": "stream",
          "name": "stdout",
          "text": [
            "1 2 3 4 5 "
          ]
        }
      ]
    },
    {
      "cell_type": "code",
      "source": [
        "# for loops\n",
        "for i in range(1,10):\n",
        "  for j in range(1,10):\n",
        "    print(i, ' * ' , j , ' = ', i*j)\n",
        "  print(\"-\"*50)"
      ],
      "metadata": {
        "colab": {
          "base_uri": "https://localhost:8080/"
        },
        "id": "puq4nQsSMnFz",
        "outputId": "3dd9b279-8860-4b32-8f5b-4285dc899abf"
      },
      "execution_count": 96,
      "outputs": [
        {
          "output_type": "stream",
          "name": "stdout",
          "text": [
            "1  *  1  =  1\n",
            "1  *  2  =  2\n",
            "1  *  3  =  3\n",
            "1  *  4  =  4\n",
            "1  *  5  =  5\n",
            "1  *  6  =  6\n",
            "1  *  7  =  7\n",
            "1  *  8  =  8\n",
            "1  *  9  =  9\n",
            "--------------------------------------------------\n",
            "2  *  1  =  2\n",
            "2  *  2  =  4\n",
            "2  *  3  =  6\n",
            "2  *  4  =  8\n",
            "2  *  5  =  10\n",
            "2  *  6  =  12\n",
            "2  *  7  =  14\n",
            "2  *  8  =  16\n",
            "2  *  9  =  18\n",
            "--------------------------------------------------\n",
            "3  *  1  =  3\n",
            "3  *  2  =  6\n",
            "3  *  3  =  9\n",
            "3  *  4  =  12\n",
            "3  *  5  =  15\n",
            "3  *  6  =  18\n",
            "3  *  7  =  21\n",
            "3  *  8  =  24\n",
            "3  *  9  =  27\n",
            "--------------------------------------------------\n",
            "4  *  1  =  4\n",
            "4  *  2  =  8\n",
            "4  *  3  =  12\n",
            "4  *  4  =  16\n",
            "4  *  5  =  20\n",
            "4  *  6  =  24\n",
            "4  *  7  =  28\n",
            "4  *  8  =  32\n",
            "4  *  9  =  36\n",
            "--------------------------------------------------\n",
            "5  *  1  =  5\n",
            "5  *  2  =  10\n",
            "5  *  3  =  15\n",
            "5  *  4  =  20\n",
            "5  *  5  =  25\n",
            "5  *  6  =  30\n",
            "5  *  7  =  35\n",
            "5  *  8  =  40\n",
            "5  *  9  =  45\n",
            "--------------------------------------------------\n",
            "6  *  1  =  6\n",
            "6  *  2  =  12\n",
            "6  *  3  =  18\n",
            "6  *  4  =  24\n",
            "6  *  5  =  30\n",
            "6  *  6  =  36\n",
            "6  *  7  =  42\n",
            "6  *  8  =  48\n",
            "6  *  9  =  54\n",
            "--------------------------------------------------\n",
            "7  *  1  =  7\n",
            "7  *  2  =  14\n",
            "7  *  3  =  21\n",
            "7  *  4  =  28\n",
            "7  *  5  =  35\n",
            "7  *  6  =  42\n",
            "7  *  7  =  49\n",
            "7  *  8  =  56\n",
            "7  *  9  =  63\n",
            "--------------------------------------------------\n",
            "8  *  1  =  8\n",
            "8  *  2  =  16\n",
            "8  *  3  =  24\n",
            "8  *  4  =  32\n",
            "8  *  5  =  40\n",
            "8  *  6  =  48\n",
            "8  *  7  =  56\n",
            "8  *  8  =  64\n",
            "8  *  9  =  72\n",
            "--------------------------------------------------\n",
            "9  *  1  =  9\n",
            "9  *  2  =  18\n",
            "9  *  3  =  27\n",
            "9  *  4  =  36\n",
            "9  *  5  =  45\n",
            "9  *  6  =  54\n",
            "9  *  7  =  63\n",
            "9  *  8  =  72\n",
            "9  *  9  =  81\n",
            "--------------------------------------------------\n"
          ]
        }
      ]
    },
    {
      "cell_type": "code",
      "source": [
        "# while loops\n",
        "age = 10\n",
        "while age < 20:\n",
        "  print(age, end = \" \")\n",
        "  age = age + 1"
      ],
      "metadata": {
        "colab": {
          "base_uri": "https://localhost:8080/"
        },
        "id": "wsugdd4XNARH",
        "outputId": "c0a8c53d-a8cd-42be-9bee-366b7811127b"
      },
      "execution_count": 97,
      "outputs": [
        {
          "output_type": "stream",
          "name": "stdout",
          "text": [
            "10 11 12 13 14 15 16 17 18 19 "
          ]
        }
      ]
    },
    {
      "cell_type": "markdown",
      "source": [
        "## Kết Thúc"
      ],
      "metadata": {
        "id": "7i1XTZM-NUpG"
      }
    },
    {
      "cell_type": "markdown",
      "source": [
        "## Python Functions"
      ],
      "metadata": {
        "id": "cwNWCKXDN3Mr"
      }
    },
    {
      "cell_type": "code",
      "source": [
        "# Future Value\n",
        "amount = 100\n",
        "interest = 10 #10% = 0.01 * 10\n",
        "years = 7\n",
        "future_value = amount * ((1 + (0.01 * interest)) ** years)\n",
        "print(round(future_value, 2))"
      ],
      "metadata": {
        "colab": {
          "base_uri": "https://localhost:8080/"
        },
        "id": "kFt2NTNGOhxx",
        "outputId": "8c51c6d7-d58c-45f9-f248-e4b160f42782"
      },
      "execution_count": 104,
      "outputs": [
        {
          "output_type": "stream",
          "name": "stdout",
          "text": [
            "194.87\n"
          ]
        }
      ]
    },
    {
      "cell_type": "code",
      "source": [
        "# Python Function def\n",
        "# indentation for blocks. four spaces\n",
        "def getfv(pv, r, n):\n",
        "  fv = pv * ((1 + (r)) ** n)\n",
        "  return fv\n",
        "fv = getfv(100, 0.1, 7)\n",
        "print(round(fv, 2))"
      ],
      "metadata": {
        "colab": {
          "base_uri": "https://localhost:8080/"
        },
        "id": "NjFnwvP1N5C1",
        "outputId": "8f592e3d-a882-40ae-8c43-626833c8bd4d"
      },
      "execution_count": 101,
      "outputs": [
        {
          "output_type": "stream",
          "name": "stdout",
          "text": [
            "194.87\n"
          ]
        }
      ]
    },
    {
      "cell_type": "code",
      "source": [
        "# How much is your $100 worth after 7 years?\n",
        "fv = 100 * 1.1 ** 7\n",
        "print('fv = ', round(fv, 2))\n",
        "# output = 194.87\n"
      ],
      "metadata": {
        "colab": {
          "base_uri": "https://localhost:8080/"
        },
        "id": "cwEcInXpN6bA",
        "outputId": "b599c82f-306a-4a27-ffdc-6135c9c230b5"
      },
      "execution_count": 105,
      "outputs": [
        {
          "output_type": "stream",
          "name": "stdout",
          "text": [
            "fv =  194.87\n"
          ]
        }
      ]
    },
    {
      "cell_type": "markdown",
      "source": [
        "## Python Classes/Objects"
      ],
      "metadata": {
        "id": "NRI6AbhfOcXQ"
      }
    },
    {
      "cell_type": "code",
      "source": [
        "# Python class\n",
        "class MyClass: # class: Mau giay to\n",
        "  x = 5\n",
        "c1 = MyClass() #object: sv A dien vao giay to\n",
        "print(c1.x)\n"
      ],
      "metadata": {
        "colab": {
          "base_uri": "https://localhost:8080/"
        },
        "id": "TnAP1CmiPLCv",
        "outputId": "9a94d524-47a1-4793-89bb-ff3309c0f77f"
      },
      "execution_count": 108,
      "outputs": [
        {
          "output_type": "stream",
          "name": "stdout",
          "text": [
            "5\n"
          ]
        }
      ]
    },
    {
      "cell_type": "code",
      "source": [
        "class Person:\n",
        "  def __init__(self, name, age): # hàm tạp, hàm trong class phải có từ khóa slef\n",
        "    self.name = name # định nghĩa hình thức\n",
        "    self.age = age\n",
        "p1 = Person(\"Alan\", 20) #_init_(p1,\"Alan\", 20)\n",
        "print(p1.name)\n",
        "print(p1.age)\n"
      ],
      "metadata": {
        "colab": {
          "base_uri": "https://localhost:8080/"
        },
        "id": "PqNCZZuSPM0i",
        "outputId": "59705114-68c7-4f68-be9f-8a510afe426d"
      },
      "execution_count": 111,
      "outputs": [
        {
          "output_type": "stream",
          "name": "stdout",
          "text": [
            "Alan\n",
            "20\n"
          ]
        }
      ]
    },
    {
      "cell_type": "code",
      "source": [
        "class Person:\n",
        "  def __init__(self, name, age):\n",
        "    self.name = name\n",
        "    self.age = age\n",
        "  def myfunc(self):\n",
        "    print(\"Hello my name is \" + self.name)\n",
        "p1 = Person(\"Alan\", 20)\n",
        "p1.myfunc()\n",
        "print(p1.name)\n",
        "print(p1.age)"
      ],
      "metadata": {
        "colab": {
          "base_uri": "https://localhost:8080/"
        },
        "id": "wd-9HQeQPZnh",
        "outputId": "41ffa047-8caf-4c53-dcc5-7e76657b47bc"
      },
      "execution_count": 114,
      "outputs": [
        {
          "output_type": "stream",
          "name": "stdout",
          "text": [
            "Hello my name is Alan\n",
            "Alan\n",
            "20\n"
          ]
        }
      ]
    },
    {
      "cell_type": "code",
      "source": [],
      "metadata": {
        "id": "Rn2WGVW7QTuD"
      },
      "execution_count": null,
      "outputs": []
    },
    {
      "cell_type": "markdown",
      "source": [
        "# Python Modules"
      ],
      "metadata": {
        "id": "fkF6ISrCQzzv"
      }
    },
    {
      "cell_type": "code",
      "source": [
        "%%writefile mymodule.py\n",
        "    # mymodule.py\n",
        "  def greeting(name):\n",
        "    print(\"Hello, \" + name)\n",
        "  def greeting_vn(name):\n",
        "    print(\"Xin chào, \" + name)"
      ],
      "metadata": {
        "colab": {
          "base_uri": "https://localhost:8080/"
        },
        "id": "Q9YQJOWWQ2Io",
        "outputId": "239aa141-be3d-4f9f-b9e7-71fe678268d1"
      },
      "execution_count": 129,
      "outputs": [
        {
          "output_type": "stream",
          "name": "stdout",
          "text": [
            "Overwriting mymodule.py\n"
          ]
        }
      ]
    },
    {
      "cell_type": "code",
      "source": [
        "%load_ext autoreload\n",
        "%autoreload 2\n",
        "import mymodule\n",
        "importlib.reload(mymodule)\n",
        "mymodule.greeting_vn(\"World!\")"
      ],
      "metadata": {
        "colab": {
          "base_uri": "https://localhost:8080/",
          "height": 280
        },
        "id": "1nNOtk0HRIyw",
        "outputId": "9e4f7577-58db-4262-dae7-ec11008a8f07"
      },
      "execution_count": 130,
      "outputs": [
        {
          "output_type": "stream",
          "name": "stdout",
          "text": [
            "The autoreload extension is already loaded. To reload it, use:\n",
            "  %reload_ext autoreload\n"
          ]
        },
        {
          "output_type": "error",
          "ename": "IndentationError",
          "evalue": "unexpected indent (mymodule.py, line 2)",
          "traceback": [
            "Traceback \u001b[0;36m(most recent call last)\u001b[0m:\n",
            "  File \u001b[1;32m\"/usr/local/lib/python3.11/dist-packages/IPython/core/interactiveshell.py\"\u001b[0m, line \u001b[1;32m3553\u001b[0m, in \u001b[1;35mrun_code\u001b[0m\n    exec(code_obj, self.user_global_ns, self.user_ns)\n",
            "\u001b[0;36m  File \u001b[0;32m\"/tmp/ipython-input-4086135355.py\"\u001b[0;36m, line \u001b[0;32m3\u001b[0;36m, in \u001b[0;35m<cell line: 0>\u001b[0;36m\u001b[0m\n\u001b[0;31m    import mymodule\u001b[0m\n",
            "\u001b[0;36m  File \u001b[0;32m\"/content/mymodule.py\"\u001b[0;36m, line \u001b[0;32m2\u001b[0m\n\u001b[0;31m    def greeting(name):\u001b[0m\n\u001b[0m    ^\u001b[0m\n\u001b[0;31mIndentationError\u001b[0m\u001b[0;31m:\u001b[0m unexpected indent\n"
          ]
        }
      ]
    },
    {
      "cell_type": "code",
      "source": [],
      "metadata": {
        "id": "t038PY1ZRz5K"
      },
      "execution_count": null,
      "outputs": []
    },
    {
      "cell_type": "markdown",
      "source": [
        "## Python File/ Dictionary"
      ],
      "metadata": {
        "id": "BoDRICleScy4"
      }
    },
    {
      "cell_type": "code",
      "source": [
        "# Python File Input / Output\n",
        "with open('myfile.txt', 'w') as file:\n",
        "  file.write('Hello World\\nThis is Python File Input Output')\n",
        "with open('myfile.txt', 'r') as file:\n",
        "  text = file.read()\n",
        "  print(text)\n"
      ],
      "metadata": {
        "colab": {
          "base_uri": "https://localhost:8080/"
        },
        "id": "r4tJ8o4WSjnv",
        "outputId": "872948e3-79bd-46d2-90a8-5266d227bed7"
      },
      "execution_count": 135,
      "outputs": [
        {
          "output_type": "stream",
          "name": "stdout",
          "text": [
            "Hello World\n",
            "This is Python File Input Output\n"
          ]
        }
      ]
    },
    {
      "cell_type": "code",
      "source": [],
      "metadata": {
        "id": "VdMHJIEoSmJz"
      },
      "execution_count": null,
      "outputs": []
    }
  ]
}