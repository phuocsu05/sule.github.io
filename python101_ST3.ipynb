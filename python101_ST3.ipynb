{
  "nbformat": 4,
  "nbformat_minor": 0,
  "metadata": {
    "colab": {
      "provenance": [],
      "authorship_tag": "ABX9TyMpRtWhSjsy8bx9IuDupo6A",
      "include_colab_link": true
    },
    "kernelspec": {
      "name": "python3",
      "display_name": "Python 3"
    },
    "language_info": {
      "name": "python"
    }
  },
  "cells": [
    {
      "cell_type": "markdown",
      "metadata": {
        "id": "view-in-github",
        "colab_type": "text"
      },
      "source": [
        "<a href=\"https://colab.research.google.com/github/sule31231021799/lephuocsu/blob/main/python101_ST3.ipynb\" target=\"_parent\"><img src=\"https://colab.research.google.com/assets/colab-badge.svg\" alt=\"Open In Colab\"/></a>"
      ]
    },
    {
      "cell_type": "markdown",
      "source": [
        "# Python 101"
      ],
      "metadata": {
        "id": "F0zFEdOW0X5F"
      }
    },
    {
      "cell_type": "markdown",
      "source": [
        "## compiler"
      ],
      "metadata": {
        "id": "GWPmLfyj0TaF"
      }
    },
    {
      "cell_type": "markdown",
      "source": [],
      "metadata": {
        "id": "Am9M_yvf0O_N"
      }
    },
    {
      "cell_type": "code",
      "source": [
        "%%writefile first.cpp\n",
        "#include\n",
        "int main(void) {\n",
        "  int a=27, b=6, c;\n",
        "  c = a%b;\n",
        "  printf(\"The value of c is %d.\\n\", c);\n",
        "  return 0;\n",
        "}\n"
      ],
      "metadata": {
        "colab": {
          "base_uri": "https://localhost:8080/"
        },
        "id": "MVzrmAxs4Bxm",
        "outputId": "13d1edeb-521c-46e1-d929-05078ea9603a"
      },
      "execution_count": null,
      "outputs": [
        {
          "output_type": "stream",
          "name": "stdout",
          "text": [
            "Overwriting first.cpp\n"
          ]
        }
      ]
    },
    {
      "cell_type": "code",
      "source": [
        "!cat first.cpp\n",
        "print(\"-\"*50)\n",
        "\n",
        "print('Compile...')\n",
        "!gcc first.cpp -o first\n",
        "!ls\n",
        "\n",
        "print(\"-\"*50)\n",
        "print('Execute...')\n",
        "!./first\n",
        "\n"
      ],
      "metadata": {
        "colab": {
          "base_uri": "https://localhost:8080/"
        },
        "id": "rHH_sCL64JvX",
        "outputId": "542e9279-0639-4c7e-996a-0289ab420f46"
      },
      "execution_count": null,
      "outputs": [
        {
          "output_type": "stream",
          "name": "stdout",
          "text": [
            "#include \n",
            "int main(void) {\n",
            "  int a=27, b=6, c;\n",
            "  c = a%b;\n",
            "  printf(\"The value of c is %d.\\n\", c);\n",
            "  return 0;\n",
            "}\n",
            "     \n",
            "--------------------------------------------------\n",
            "Compile...\n",
            "\u001b[01m\u001b[Kfirst.cpp:1:10:\u001b[m\u001b[K \u001b[01;31m\u001b[Kerror: \u001b[m\u001b[K#include expects \"FILENAME\" or <FILENAME>\n",
            "    1 | #include\n",
            "      |          \u001b[01;31m\u001b[K^\u001b[m\u001b[K\n",
            "\u001b[01m\u001b[Kfirst.cpp:\u001b[m\u001b[K In function ‘\u001b[01m\u001b[Kint main()\u001b[m\u001b[K’:\n",
            "\u001b[01m\u001b[Kfirst.cpp:5:3:\u001b[m\u001b[K \u001b[01;31m\u001b[Kerror: \u001b[m\u001b[K‘\u001b[01m\u001b[Kprintf\u001b[m\u001b[K’ was not declared in this scope\n",
            "    5 |   \u001b[01;31m\u001b[Kprintf\u001b[m\u001b[K(\"The value of c is %d.\\n\", c);\n",
            "      |   \u001b[01;31m\u001b[K^~~~~~\u001b[m\u001b[K\n",
            "\u001b[01m\u001b[Kfirst.cpp:1:1:\u001b[m\u001b[K \u001b[01;36m\u001b[Knote: \u001b[m\u001b[K‘\u001b[01m\u001b[Kprintf\u001b[m\u001b[K’ is defined in header ‘\u001b[01m\u001b[K<cstdio>\u001b[m\u001b[K’; did you forget to ‘\u001b[01m\u001b[K#include <cstdio>\u001b[m\u001b[K’?\n",
            "  +++ |+\u001b[32m\u001b[K#include <cstdio>\u001b[m\u001b[K\n",
            "    1 | #include\n",
            "first.cpp  first.py  sample_data\n",
            "--------------------------------------------------\n",
            "Execute...\n",
            "/bin/bash: line 1: ./first: No such file or directory\n"
          ]
        }
      ]
    },
    {
      "cell_type": "code",
      "execution_count": null,
      "metadata": {
        "colab": {
          "base_uri": "https://localhost:8080/"
        },
        "id": "DdKRpzAyz1BJ",
        "outputId": "4acff2c6-942b-4428-e66c-8e9df9e62b8a"
      },
      "outputs": [
        {
          "output_type": "stream",
          "name": "stdout",
          "text": [
            "Writing first.py\n"
          ]
        }
      ],
      "source": [
        "%%writefile first.py\n",
        "a = 27\n",
        "b = 6\n",
        "c = a%b;\n",
        "print(\"The value of c is %d.\\n\"% c)\n",
        "\n"
      ]
    },
    {
      "cell_type": "markdown",
      "source": [
        "## Ngôn ngữ lập trình"
      ],
      "metadata": {
        "id": "Qx8M-EdW4fAa"
      }
    },
    {
      "cell_type": "code",
      "source": [
        "print(\"Hello, World!\")\n",
        "display('Hello, World')"
      ],
      "metadata": {
        "colab": {
          "base_uri": "https://localhost:8080/",
          "height": 52
        },
        "id": "woh0sQzl4RtJ",
        "outputId": "463d1236-75ac-4a78-e677-b05a2ed05a3d"
      },
      "execution_count": null,
      "outputs": [
        {
          "output_type": "stream",
          "name": "stdout",
          "text": [
            "Hello, World!\n"
          ]
        },
        {
          "output_type": "display_data",
          "data": {
            "text/plain": [
              "'Hello, World'"
            ],
            "application/vnd.google.colaboratory.intrinsic+json": {
              "type": "string"
            }
          },
          "metadata": {}
        }
      ]
    },
    {
      "cell_type": "code",
      "source": [],
      "metadata": {
        "id": "82wjMjhd4kh_"
      },
      "execution_count": null,
      "outputs": []
    },
    {
      "cell_type": "code",
      "source": [
        "from google.colab import drive\n",
        "drive.mount('/content/drive')"
      ],
      "metadata": {
        "id": "Wju94Nhl5YXp"
      },
      "execution_count": null,
      "outputs": []
    },
    {
      "cell_type": "code",
      "source": [
        "# comment\n",
        "'''\n",
        "comment\n",
        "'''\n",
        "print('comment')"
      ],
      "metadata": {
        "colab": {
          "base_uri": "https://localhost:8080/"
        },
        "id": "Lmv9tYDr6mHl",
        "outputId": "8faf803c-3ada-487b-c813-87ea8d464953"
      },
      "execution_count": 9,
      "outputs": [
        {
          "output_type": "stream",
          "name": "stdout",
          "text": [
            "comment\n"
          ]
        }
      ]
    },
    {
      "cell_type": "code",
      "source": [
        "# indent\n",
        "score = 80\n",
        "if score >= 60:\n",
        "  print('Pass')\n",
        "  pass # dummy"
      ],
      "metadata": {
        "colab": {
          "base_uri": "https://localhost:8080/"
        },
        "id": "ZCZp4bOv6tBD",
        "outputId": "f30aa20b-48e9-4e90-8379-939865482201"
      },
      "execution_count": 13,
      "outputs": [
        {
          "output_type": "stream",
          "name": "stdout",
          "text": [
            "Pass\n"
          ]
        }
      ]
    },
    {
      "cell_type": "code",
      "source": [
        "# variable\n",
        "x = 2\n",
        "price = 2.5\n",
        "\n",
        "word = 'Hello'\n",
        "word = \"Hello\"\n",
        "print(word, type(word))\n",
        "word = \"\"\"\n",
        "Hello\n",
        "\"\"\"\n",
        "print(word, type(word))"
      ],
      "metadata": {
        "colab": {
          "base_uri": "https://localhost:8080/"
        },
        "id": "nOyBMu0o6Uut",
        "outputId": "ab7d4f0e-26c2-4c95-b941-17e40311faf6"
      },
      "execution_count": 15,
      "outputs": [
        {
          "output_type": "stream",
          "name": "stdout",
          "text": [
            "Hello <class 'str'>\n",
            "\n",
            "Hello\n",
            " <class 'str'>\n"
          ]
        }
      ]
    },
    {
      "cell_type": "code",
      "source": [
        "x = 2\n",
        "y = x + 1\n",
        "print(f'x = {x}, y = {y}')\n",
        "print('x = %d, y = %d'%(x,y))"
      ],
      "metadata": {
        "colab": {
          "base_uri": "https://localhost:8080/"
        },
        "id": "FYfjsUi-7hFJ",
        "outputId": "f8aaede4-98c3-4953-97bf-5cb12ddb5f86"
      },
      "execution_count": 21,
      "outputs": [
        {
          "output_type": "stream",
          "name": "stdout",
          "text": [
            "x = 2, y = 3\n",
            "x = 2, y = 3\n"
          ]
        }
      ]
    },
    {
      "cell_type": "code",
      "source": [
        "# comment\n",
        "from platform import python_version\n",
        "print(\"Python Version:\", python_version())"
      ],
      "metadata": {
        "colab": {
          "base_uri": "https://localhost:8080/"
        },
        "id": "mXOD8Nm-7xYQ",
        "outputId": "9c89a2c9-aa7f-4ff0-ba99-4de8b5b41b0e"
      },
      "execution_count": 22,
      "outputs": [
        {
          "output_type": "stream",
          "name": "stdout",
          "text": [
            "Python Version: 3.11.13\n"
          ]
        }
      ]
    },
    {
      "cell_type": "code",
      "source": [
        "x = \"Hello World\" #str\n",
        "print(x, type(x))\n",
        "x = 2 #int\n",
        "print(x, type(x))\n",
        "x = 2.5 #float\n",
        "print(x, type(x))\n",
        "x = 7j + 3 #complex\n",
        "print(x, type(x))"
      ],
      "metadata": {
        "colab": {
          "base_uri": "https://localhost:8080/"
        },
        "id": "8wiV8rz49Whw",
        "outputId": "34672ebf-e93d-491f-9082-450035ecdbc5"
      },
      "execution_count": 27,
      "outputs": [
        {
          "output_type": "stream",
          "name": "stdout",
          "text": [
            "Hello World <class 'str'>\n",
            "2 <class 'int'>\n",
            "2.5 <class 'float'>\n",
            "(3+7j) <class 'complex'>\n"
          ]
        }
      ]
    },
    {
      "cell_type": "code",
      "source": [
        "x = [\"apple\", \"banana\", \"cherry\"] #list: chứa các đối tượng khác\n",
        "print(x, x[2])\n",
        "x = (\"apple\", \"banana\", \"cherry\") #tuple: chứa các đối tượng khác, readonly\n",
        "# x[2] = 10 # error\n",
        "print(x, x[2])\n",
        "x = range(6) #range: r(6)=[0,5], r(min,max): [min,max)\n",
        "print(x, list(x)) # iterator: chỉ cấp phát khi sử dụng (kiểu iterator)\n",
        "x = {\"name\" : \"Tom\", \"age\" : 20} #dict {k,v}\n",
        "print(x, x['age'])\n",
        "x = {\"apple\", \"banana\", \"cherry\"} #set: không có giá trị trùng\n",
        "print(x)\n",
        "x = frozenset({\"apple\", \"banana\", \"cherry\"})\n",
        "#frozenset\n",
        "print(x)"
      ],
      "metadata": {
        "colab": {
          "base_uri": "https://localhost:8080/"
        },
        "id": "kxDwvKY19Zls",
        "outputId": "6b26cb3b-0f83-4aae-ed31-173827f415ba"
      },
      "execution_count": 29,
      "outputs": [
        {
          "output_type": "stream",
          "name": "stdout",
          "text": [
            "['apple', 'banana', 'cherry'] cherry\n",
            "('apple', 'banana', 'cherry') cherry\n",
            "range(0, 6) [0, 1, 2, 3, 4, 5]\n",
            "{'name': 'Tom', 'age': 20} 20\n",
            "{'cherry', 'banana', 'apple'}\n",
            "frozenset({'cherry', 'banana', 'apple'})\n"
          ]
        }
      ]
    },
    {
      "cell_type": "code",
      "source": [
        "x = True #bool\n",
        "print(x, type(x))\n",
        "x = b\"Hello\" #bytes\n",
        "print(x, type(x))\n",
        "x = bytearray(5) #bytearray\n",
        "print(x, type(x))\n",
        "x = memoryview(bytes(5)) #memoryview\n",
        "print(x, type(x))\n",
        "x = None #NoneType\n",
        "print(x, type(x))"
      ],
      "metadata": {
        "colab": {
          "base_uri": "https://localhost:8080/"
        },
        "id": "-W0v-O-n94LP",
        "outputId": "126af9d0-e439-438c-8f5d-bf6872ef6c57"
      },
      "execution_count": 32,
      "outputs": [
        {
          "output_type": "stream",
          "name": "stdout",
          "text": [
            "True <class 'bool'>\n",
            "b'Hello' <class 'bytes'>\n",
            "bytearray(b'\\x00\\x00\\x00\\x00\\x00') <class 'bytearray'>\n",
            "<memory at 0x7d2cb5fae380> <class 'memoryview'>\n",
            "None <class 'NoneType'>\n"
          ]
        }
      ]
    },
    {
      "cell_type": "markdown",
      "source": [
        "## Ép kiểu (Casting)"
      ],
      "metadata": {
        "id": "jWKr0Dyd_vz7"
      }
    },
    {
      "cell_type": "code",
      "source": [
        "x = str(3) # x will be '3'\n",
        "print(x, type(x))\n",
        "y = int(3) # y will be 3\n",
        "print(y, type(y))\n",
        "z = float(3) # z will be 3.0\n",
        "print(z, type(z))\n",
        "\n",
        "print(list(range(6)))\n",
        "print(set([1, 4 , 2, 1, 1, 2, 3, 4]))"
      ],
      "metadata": {
        "colab": {
          "base_uri": "https://localhost:8080/"
        },
        "id": "KXNhaJXb_P6n",
        "outputId": "3e94de9d-fd49-49e0-ed2c-bc1064b5d818"
      },
      "execution_count": 33,
      "outputs": [
        {
          "output_type": "stream",
          "name": "stdout",
          "text": [
            "3 <class 'str'>\n",
            "3 <class 'int'>\n",
            "3.0 <class 'float'>\n",
            "[0, 1, 2, 3, 4, 5]\n",
            "{1, 2, 3, 4}\n"
          ]
        }
      ]
    },
    {
      "cell_type": "code",
      "source": [
        "x = 2 # int\n",
        "print(x, type(x))\n",
        "y = 3.4 # float\n",
        "print(y, type(y))\n",
        "z = 7j #complex\n",
        "print(z, type(z))"
      ],
      "metadata": {
        "colab": {
          "base_uri": "https://localhost:8080/"
        },
        "id": "TjWVDgnW_2Bm",
        "outputId": "b88884bd-0a5f-4464-e70f-dfdd7063627f"
      },
      "execution_count": 34,
      "outputs": [
        {
          "output_type": "stream",
          "name": "stdout",
          "text": [
            "2 <class 'int'>\n",
            "3.4 <class 'float'>\n",
            "7j <class 'complex'>\n"
          ]
        }
      ]
    },
    {
      "cell_type": "code",
      "source": [
        "''' Arithmetic Operators\n",
        "Operator Name Example\n",
        "+ Addition 7 + 2 = 9\n",
        "- Subtraction 7 - 2 = 5\n",
        "* Multiplication 7 * 2 = 14\n",
        "/ Division 7 / 2 = 3.5\n",
        "// Floor division 7 // 2 = 3 (Quotient)\n",
        "% Modulus 7 % 2 = 1 (Remainder)\n",
        "** Exponentiation 7 ** 2 = 49\n",
        "'''"
      ],
      "metadata": {
        "colab": {
          "base_uri": "https://localhost:8080/",
          "height": 52
        },
        "id": "vLzUp4PtAfPf",
        "outputId": "1c5d99d3-9a8b-4292-a9bd-9ce60c5242ff"
      },
      "execution_count": 36,
      "outputs": [
        {
          "output_type": "execute_result",
          "data": {
            "text/plain": [
              "' Arithmetic Operators\\nOperator Name Example\\n+ Addition 7 + 2 = 9\\n- Subtraction 7 - 2 = 5\\n* Multiplication 7 * 2 = 14\\n/ Division 7 / 2 = 3.5\\n// Floor division 7 // 2 = 3 (Quotient)\\n% Modulus 7 % 2 = 1 (Remainder)\\n** Exponentiation 7 ** 2 = 49\\n'"
            ],
            "application/vnd.google.colaboratory.intrinsic+json": {
              "type": "string"
            }
          },
          "metadata": {},
          "execution_count": 36
        }
      ]
    },
    {
      "cell_type": "code",
      "source": [
        "print('7 + 2 =', 7 + 2)\n",
        "print('7 - 2 =', 7 - 2)\n",
        "print('7 * 2 =', 7 * 2)\n",
        "print('7 / 2 =', 7 / 2)\n",
        "print('7 // 2 =', 7 // 2)\n",
        "print('7 % 2 =', 7 % 2)\n",
        "print('7 ** 2 =', 7 ** 2)"
      ],
      "metadata": {
        "colab": {
          "base_uri": "https://localhost:8080/"
        },
        "id": "XTPHfqa8AvV-",
        "outputId": "74179e2b-ced6-4606-c400-389aaacca0e0"
      },
      "execution_count": 37,
      "outputs": [
        {
          "output_type": "stream",
          "name": "stdout",
          "text": [
            "7 + 2 = 9\n",
            "7 - 2 = 5\n",
            "7 * 2 = 14\n",
            "7 / 2 = 3.5\n",
            "7 // 2 = 3\n",
            "7 % 2 = 1\n",
            "7 ** 2 = 49\n"
          ]
        }
      ]
    },
    {
      "cell_type": "code",
      "source": [
        "# Python Booleans: True or False\n",
        "print(3 > 2)\n",
        "print(3 == 2)\n",
        "print(3 < 2)"
      ],
      "metadata": {
        "colab": {
          "base_uri": "https://localhost:8080/"
        },
        "id": "QUDv3dTdA6U3",
        "outputId": "c085a39f-2b26-4d7c-c2d6-14c490b38e6f"
      },
      "execution_count": 38,
      "outputs": [
        {
          "output_type": "stream",
          "name": "stdout",
          "text": [
            "True\n",
            "False\n",
            "False\n"
          ]
        }
      ]
    },
    {
      "cell_type": "code",
      "source": [],
      "metadata": {
        "id": "XomjQjsCA9KP"
      },
      "execution_count": null,
      "outputs": []
    }
  ]
}