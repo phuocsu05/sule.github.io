{
  "nbformat": 4,
  "nbformat_minor": 0,
  "metadata": {
    "colab": {
      "provenance": [],
      "authorship_tag": "ABX9TyP6J0pWaahWIN/N9k0Z4wbj",
      "include_colab_link": true
    },
    "kernelspec": {
      "name": "python3",
      "display_name": "Python 3"
    },
    "language_info": {
      "name": "python"
    }
  },
  "cells": [
    {
      "cell_type": "markdown",
      "metadata": {
        "id": "view-in-github",
        "colab_type": "text"
      },
      "source": [
        "<a href=\"https://colab.research.google.com/github/sule31231021799/lephuocsu/blob/main/baihoc2_python101_ST3.ipynb\" target=\"_parent\"><img src=\"https://colab.research.google.com/assets/colab-badge.svg\" alt=\"Open In Colab\"/></a>"
      ]
    },
    {
      "cell_type": "markdown",
      "source": [
        "# Python 101"
      ],
      "metadata": {
        "id": "F0zFEdOW0X5F"
      }
    },
    {
      "cell_type": "markdown",
      "source": [
        "## compiler"
      ],
      "metadata": {
        "id": "GWPmLfyj0TaF"
      }
    },
    {
      "cell_type": "markdown",
      "source": [],
      "metadata": {
        "id": "Am9M_yvf0O_N"
      }
    },
    {
      "cell_type": "code",
      "source": [
        "%%writefile first.cpp\n",
        "#include\n",
        "int main(void) {\n",
        "  int a=27, b=6, c;\n",
        "  c = a%b;\n",
        "  printf(\"The value of c is %d.\\n\", c);\n",
        "  return 0;\n",
        "}\n"
      ],
      "metadata": {
        "colab": {
          "base_uri": "https://localhost:8080/"
        },
        "id": "MVzrmAxs4Bxm",
        "outputId": "13d1edeb-521c-46e1-d929-05078ea9603a"
      },
      "execution_count": null,
      "outputs": [
        {
          "output_type": "stream",
          "name": "stdout",
          "text": [
            "Overwriting first.cpp\n"
          ]
        }
      ]
    },
    {
      "cell_type": "code",
      "source": [
        "!cat first.cpp\n",
        "print(\"-\"*50)\n",
        "\n",
        "print('Compile...')\n",
        "!gcc first.cpp -o first\n",
        "!ls\n",
        "\n",
        "print(\"-\"*50)\n",
        "print('Execute...')\n",
        "!./first\n",
        "\n"
      ],
      "metadata": {
        "colab": {
          "base_uri": "https://localhost:8080/"
        },
        "id": "rHH_sCL64JvX",
        "outputId": "542e9279-0639-4c7e-996a-0289ab420f46"
      },
      "execution_count": null,
      "outputs": [
        {
          "output_type": "stream",
          "name": "stdout",
          "text": [
            "#include \n",
            "int main(void) {\n",
            "  int a=27, b=6, c;\n",
            "  c = a%b;\n",
            "  printf(\"The value of c is %d.\\n\", c);\n",
            "  return 0;\n",
            "}\n",
            "     \n",
            "--------------------------------------------------\n",
            "Compile...\n",
            "\u001b[01m\u001b[Kfirst.cpp:1:10:\u001b[m\u001b[K \u001b[01;31m\u001b[Kerror: \u001b[m\u001b[K#include expects \"FILENAME\" or <FILENAME>\n",
            "    1 | #include\n",
            "      |          \u001b[01;31m\u001b[K^\u001b[m\u001b[K\n",
            "\u001b[01m\u001b[Kfirst.cpp:\u001b[m\u001b[K In function ‘\u001b[01m\u001b[Kint main()\u001b[m\u001b[K’:\n",
            "\u001b[01m\u001b[Kfirst.cpp:5:3:\u001b[m\u001b[K \u001b[01;31m\u001b[Kerror: \u001b[m\u001b[K‘\u001b[01m\u001b[Kprintf\u001b[m\u001b[K’ was not declared in this scope\n",
            "    5 |   \u001b[01;31m\u001b[Kprintf\u001b[m\u001b[K(\"The value of c is %d.\\n\", c);\n",
            "      |   \u001b[01;31m\u001b[K^~~~~~\u001b[m\u001b[K\n",
            "\u001b[01m\u001b[Kfirst.cpp:1:1:\u001b[m\u001b[K \u001b[01;36m\u001b[Knote: \u001b[m\u001b[K‘\u001b[01m\u001b[Kprintf\u001b[m\u001b[K’ is defined in header ‘\u001b[01m\u001b[K<cstdio>\u001b[m\u001b[K’; did you forget to ‘\u001b[01m\u001b[K#include <cstdio>\u001b[m\u001b[K’?\n",
            "  +++ |+\u001b[32m\u001b[K#include <cstdio>\u001b[m\u001b[K\n",
            "    1 | #include\n",
            "first.cpp  first.py  sample_data\n",
            "--------------------------------------------------\n",
            "Execute...\n",
            "/bin/bash: line 1: ./first: No such file or directory\n"
          ]
        }
      ]
    },
    {
      "cell_type": "code",
      "execution_count": null,
      "metadata": {
        "colab": {
          "base_uri": "https://localhost:8080/"
        },
        "id": "DdKRpzAyz1BJ",
        "outputId": "4acff2c6-942b-4428-e66c-8e9df9e62b8a"
      },
      "outputs": [
        {
          "output_type": "stream",
          "name": "stdout",
          "text": [
            "Writing first.py\n"
          ]
        }
      ],
      "source": [
        "%%writefile first.py\n",
        "a = 27\n",
        "b = 6\n",
        "c = a%b;\n",
        "print(\"The value of c is %d.\\n\"% c)\n",
        "\n"
      ]
    },
    {
      "cell_type": "markdown",
      "source": [
        "## Ngon ngu lap trinh"
      ],
      "metadata": {
        "id": "Qx8M-EdW4fAa"
      }
    },
    {
      "cell_type": "code",
      "source": [
        "print(\"Hello, World!\")\n",
        "display('Hello, World')"
      ],
      "metadata": {
        "colab": {
          "base_uri": "https://localhost:8080/",
          "height": 52
        },
        "id": "woh0sQzl4RtJ",
        "outputId": "463d1236-75ac-4a78-e677-b05a2ed05a3d"
      },
      "execution_count": null,
      "outputs": [
        {
          "output_type": "stream",
          "name": "stdout",
          "text": [
            "Hello, World!\n"
          ]
        },
        {
          "output_type": "display_data",
          "data": {
            "text/plain": [
              "'Hello, World'"
            ],
            "application/vnd.google.colaboratory.intrinsic+json": {
              "type": "string"
            }
          },
          "metadata": {}
        }
      ]
    },
    {
      "cell_type": "code",
      "source": [],
      "metadata": {
        "id": "82wjMjhd4kh_"
      },
      "execution_count": null,
      "outputs": []
    },
    {
      "cell_type": "code",
      "source": [
        "from google.colab import drive\n",
        "drive.mount('/content/drive')"
      ],
      "metadata": {
        "id": "Wju94Nhl5YXp"
      },
      "execution_count": null,
      "outputs": []
    },
    {
      "cell_type": "code",
      "source": [
        "# comment\n",
        "'''\n",
        "comment\n",
        "'''\n",
        "print('comment')"
      ],
      "metadata": {
        "colab": {
          "base_uri": "https://localhost:8080/"
        },
        "id": "Lmv9tYDr6mHl",
        "outputId": "8faf803c-3ada-487b-c813-87ea8d464953"
      },
      "execution_count": 9,
      "outputs": [
        {
          "output_type": "stream",
          "name": "stdout",
          "text": [
            "comment\n"
          ]
        }
      ]
    },
    {
      "cell_type": "code",
      "source": [
        "# indent\n",
        "score = 80\n",
        "if score >= 60:\n",
        "  print('Pass')\n",
        "  pass # dummy"
      ],
      "metadata": {
        "colab": {
          "base_uri": "https://localhost:8080/"
        },
        "id": "ZCZp4bOv6tBD",
        "outputId": "f30aa20b-48e9-4e90-8379-939865482201"
      },
      "execution_count": 13,
      "outputs": [
        {
          "output_type": "stream",
          "name": "stdout",
          "text": [
            "Pass\n"
          ]
        }
      ]
    },
    {
      "cell_type": "code",
      "source": [
        "# variable\n",
        "x = 2\n",
        "price = 2.5\n",
        "\n",
        "word = 'Hello'\n",
        "word = \"Hello\"\n",
        "print(word, type(word))\n",
        "word = \"\"\"\n",
        "Hello\n",
        "\"\"\"\n",
        "print(word, type(word))"
      ],
      "metadata": {
        "colab": {
          "base_uri": "https://localhost:8080/"
        },
        "id": "nOyBMu0o6Uut",
        "outputId": "ab7d4f0e-26c2-4c95-b941-17e40311faf6"
      },
      "execution_count": 15,
      "outputs": [
        {
          "output_type": "stream",
          "name": "stdout",
          "text": [
            "Hello <class 'str'>\n",
            "\n",
            "Hello\n",
            " <class 'str'>\n"
          ]
        }
      ]
    },
    {
      "cell_type": "code",
      "source": [
        "x = 2\n",
        "y = x + 1\n",
        "print(f'x = {x}, y = {y}')\n",
        "print('x = %d, y = %d'%(x,y))"
      ],
      "metadata": {
        "colab": {
          "base_uri": "https://localhost:8080/"
        },
        "id": "FYfjsUi-7hFJ",
        "outputId": "f8aaede4-98c3-4953-97bf-5cb12ddb5f86"
      },
      "execution_count": 21,
      "outputs": [
        {
          "output_type": "stream",
          "name": "stdout",
          "text": [
            "x = 2, y = 3\n",
            "x = 2, y = 3\n"
          ]
        }
      ]
    },
    {
      "cell_type": "code",
      "source": [],
      "metadata": {
        "id": "mXOD8Nm-7xYQ"
      },
      "execution_count": null,
      "outputs": []
    }
  ]
}