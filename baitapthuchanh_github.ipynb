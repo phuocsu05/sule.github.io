{
  "nbformat": 4,
  "nbformat_minor": 0,
  "metadata": {
    "colab": {
      "provenance": [],
      "authorship_tag": "ABX9TyPwFl6j/D7PkAV7wmeyvNvD",
      "include_colab_link": true
    },
    "kernelspec": {
      "name": "python3",
      "display_name": "Python 3"
    },
    "language_info": {
      "name": "python"
    }
  },
  "cells": [
    {
      "cell_type": "markdown",
      "metadata": {
        "id": "view-in-github",
        "colab_type": "text"
      },
      "source": [
        "<a href=\"https://colab.research.google.com/github/phuocsu05/sule.github.io/blob/main/baitapthuchanh_github.ipynb\" target=\"_parent\"><img src=\"https://colab.research.google.com/assets/colab-badge.svg\" alt=\"Open In Colab\"/></a>"
      ]
    },
    {
      "cell_type": "markdown",
      "source": [
        "#BÀI TẬP THỰC HÀNH CÁC THÀNH PHẦN CƠ BẢN CỦA PYTHON"
      ],
      "metadata": {
        "id": "usCy4ANIBzJC"
      }
    },
    {
      "cell_type": "markdown",
      "source": [
        "## BÀI TẬP MẪU"
      ],
      "metadata": {
        "id": "0TOVPa8YFOEp"
      }
    },
    {
      "cell_type": "markdown",
      "source": [
        "### Bài 1 In chuỗi\n"
      ],
      "metadata": {
        "id": "7uZVR4k-CXkk"
      }
    },
    {
      "cell_type": "code",
      "source": [
        "print(\"Whoever is happy will make others happy too\");\n",
        "print(\"--Anne Frank\");"
      ],
      "metadata": {
        "colab": {
          "base_uri": "https://localhost:8080/"
        },
        "id": "ls5fR4teBsWd",
        "outputId": "d604c1dd-59a9-4b02-9a28-ba9bb9b16d35"
      },
      "execution_count": 1,
      "outputs": [
        {
          "output_type": "stream",
          "name": "stdout",
          "text": [
            "Whoever is happy will make others happy too\n",
            "--Anne Frank\n"
          ]
        }
      ]
    },
    {
      "cell_type": "markdown",
      "source": [
        "### Bài 2 Biểu thức tính toán"
      ],
      "metadata": {
        "id": "RQU3T_CwCfrt"
      }
    },
    {
      "cell_type": "code",
      "source": [
        "# Nhập dữ liệu\n",
        "a = int(input(\"Moi ban nhap so a: \"))\n",
        "b = int(input(\"Moi ban nhap so b: \"))\n",
        "# Xử lý\n",
        "kqCong = a + b\n",
        "kqTru = a - b\n",
        "kqNhan = a * b\n",
        "kqChiaNguyen = a // b\n",
        "kqDu= a % b\n",
        "kqChiaThuc = a / b\n",
        "# Xuất dữ liệu\n",
        "print(\"Cac ket qua tinh toan: \")\n",
        "print(\"%-5d + %5d = %5d\"%(a, b, kqCong))\n",
        "print(\"%-5d - %5d = %5d\"%(a, b, kqTru))\n",
        "print(\"%-5d * %5d = %5d\"%(a, b, kqNhan))\n",
        "print(\"%-5d / %5d = %5d\"%(a, b, kqChiaNguyen))\n",
        "print(\"%-5d / %5d = %5d\"%(a, b, kqDu))\n",
        "print(\"%-5d / %5d = %5.2f\"%(a, b, kqChiaThuc))"
      ],
      "metadata": {
        "colab": {
          "base_uri": "https://localhost:8080/"
        },
        "id": "cu3HumFpBtMn",
        "outputId": "6739571f-82ee-476a-acb1-305a8380bcfb"
      },
      "execution_count": 2,
      "outputs": [
        {
          "output_type": "stream",
          "name": "stdout",
          "text": [
            "Moi ban nhap so a: 5\n",
            "Moi ban nhap so b: 6\n",
            "Cac ket qua tinh toan: \n",
            "5     +     6 =    11\n",
            "5     -     6 =    -1\n",
            "5     *     6 =    30\n",
            "5     /     6 =     0\n",
            "5     /     6 =     5\n",
            "5     /     6 =  0.83\n"
          ]
        }
      ]
    },
    {
      "cell_type": "markdown",
      "source": [
        "### Bài 3 Biểu thức so sánh"
      ],
      "metadata": {
        "id": "xsaFDNHHCn64"
      }
    },
    {
      "cell_type": "code",
      "source": [
        "# Nhập dữ liệu\n",
        "a = float(input(\"Moi ban nhap so a: \"))\n",
        "b = float(input(\"Moi ban nhap so b: \"))\n",
        "# Xử lý\n",
        "laNhoHon = (a < b)\n",
        "laNhoHonBang = (a <= b)\n",
        "laLonHon = (a > b)\n",
        "laLonHonBang = (a >= b)\n",
        "laBang = (a == b)\n",
        "laKhacNhau = (a != b)\n",
        "# Xuất dữ liệu\n",
        "print(\"Ket qua so sanh hai so thuc %.2f va %.2f:\"%(a, b))\n",
        "print(\"%-8.2f < %8.2f: %8s\"%(a, b, laNhoHon))\n",
        "print(\"%-8.2f <= %8.2f: %8s\"%(a, b, laNhoHonBang))\n",
        "print(\"%-8.2f > %8.2f: %8s\"%(a, b, laLonHon))\n",
        "print(\"%-8.2f >= %8.2f: %8s\"%(a, b, laLonHonBang))\n",
        "print(\"%-8.2f == %8.2f: %8s\"%(a, b, laBang))\n",
        "print(\"%-8.2f != %8.2f: %8s\"%(a, b, laKhacNhau))"
      ],
      "metadata": {
        "colab": {
          "base_uri": "https://localhost:8080/"
        },
        "id": "GqUDdWLFB_At",
        "outputId": "4fde5205-cc5c-4ab7-af0c-9899deb0c99b"
      },
      "execution_count": 3,
      "outputs": [
        {
          "output_type": "stream",
          "name": "stdout",
          "text": [
            "Moi ban nhap so a: 2.5\n",
            "Moi ban nhap so b: 6.8\n",
            "Ket qua so sanh hai so thuc 2.50 va 6.80:\n",
            "2.50     <     6.80:     True\n",
            "2.50     <=     6.80:     True\n",
            "2.50     >     6.80:    False\n",
            "2.50     >=     6.80:    False\n",
            "2.50     ==     6.80:    False\n",
            "2.50     !=     6.80:     True\n"
          ]
        }
      ]
    },
    {
      "cell_type": "markdown",
      "source": [
        "### Bài 4 Tính giá trị hàm số"
      ],
      "metadata": {
        "id": "fnBpySx4Ct4_"
      }
    },
    {
      "cell_type": "code",
      "source": [
        "# Nạp thư viện\n",
        "import math\n",
        "# Nhập dữ liệu\n",
        "x = float(input(\"Moi ban nhap vao gia tri cua bien so x: \"))\n",
        "# Xử lý\n",
        "fx = x + math.pow(x, 5) / (1 * 2 * 3 * 4 * 5) + \\\n",
        "math.sqrt(abs(x)) / math.pow(x, 3.0 / 2)\n",
        "# Xuất dữ liệu\n",
        "print(\"Gia tri cua ham so f(%.2f) = %.2f.\"%(x, fx))"
      ],
      "metadata": {
        "colab": {
          "base_uri": "https://localhost:8080/"
        },
        "id": "pKuz66nCCKLp",
        "outputId": "9cdbda34-d71f-4fe3-8404-03797645554f"
      },
      "execution_count": 4,
      "outputs": [
        {
          "output_type": "stream",
          "name": "stdout",
          "text": [
            "Moi ban nhap vao gia tri cua bien so x: 2.3\n",
            "Gia tri cua ham so f(2.30) = 3.27.\n"
          ]
        }
      ]
    },
    {
      "cell_type": "markdown",
      "source": [
        "### Bài 5 Tổng chữ số"
      ],
      "metadata": {
        "id": "mpnLcvv6C3Og"
      }
    },
    {
      "cell_type": "code",
      "source": [
        "n = int(input(\"Moi ban nhap so nguyen n (co bon chu so): \"))\n",
        "a = n // 1000\n",
        "b = (n // 100) % 10\n",
        "c = (n // 10) % 10\n",
        "d = n % 10\n",
        "s = a + b + c + d\n",
        "print(f\"{n} = {a} + {b} + {c} + {d} = {s}.\")"
      ],
      "metadata": {
        "colab": {
          "base_uri": "https://localhost:8080/"
        },
        "id": "6SA2ePAwCziI",
        "outputId": "8c7dcf3d-951d-4139-f12d-19e854d36f92"
      },
      "execution_count": 7,
      "outputs": [
        {
          "output_type": "stream",
          "name": "stdout",
          "text": [
            "Moi ban nhap so nguyen n (co bon chu so): 1234\n",
            "1234 = 1 + 2 + 3 + 4 = 10.\n"
          ]
        }
      ]
    },
    {
      "cell_type": "markdown",
      "source": [
        "## BÀI TẬP THỰC HÀNH"
      ],
      "metadata": {
        "id": "byhh8Py0FT9A"
      }
    },
    {
      "cell_type": "markdown",
      "source": [
        "### Bài 1. In nhãn\n",
        "\n",
        "\n"
      ],
      "metadata": {
        "id": "x-A3UkRVF1K4"
      }
    },
    {
      "cell_type": "code",
      "source": [
        "print(\"************************** \");\n",
        "print(\"* Truong: Dai Hoc UEH    * \");\n",
        "print(\"* Khoa: CNTT             * \");\n",
        "print(\"* Ho ten:                * \");\n",
        "print(\"************************** \");"
      ],
      "metadata": {
        "colab": {
          "base_uri": "https://localhost:8080/"
        },
        "id": "baQW82BlC-E5",
        "outputId": "6437289b-3811-4b5d-8ef3-787f9777fd4b"
      },
      "execution_count": 9,
      "outputs": [
        {
          "output_type": "stream",
          "name": "stdout",
          "text": [
            "************************** \n",
            "* Truong: Dai Hoc UEH    * \n",
            "* Khoa: CNTT             * \n",
            "* Ho ten:                * \n",
            "************************** \n"
          ]
        }
      ]
    },
    {
      "cell_type": "markdown",
      "source": [
        "### Bài 2. Tính diện tích và chu vi hình tròn"
      ],
      "metadata": {
        "id": "EYv55We9F5hX"
      }
    },
    {
      "cell_type": "code",
      "source": [
        "# Nhập dữ liệu\n",
        "R = int(input(\"Moi ban nhap so R: \"))\n",
        "# Xử lý\n",
        "S = 3.14*R**2\n",
        "P = 2*3.14*R\n",
        "# Xuất dữ liệu\n",
        "print(f\"Dien tich S = {S:.1f}\")\n",
        "print(f\"Chu vi P = {P:.1f}\")"
      ],
      "metadata": {
        "colab": {
          "base_uri": "https://localhost:8080/"
        },
        "id": "dB7bd3N5Fjb9",
        "outputId": "67233cb4-81a7-4a53-a59c-903c8cb062dc"
      },
      "execution_count": 11,
      "outputs": [
        {
          "output_type": "stream",
          "name": "stdout",
          "text": [
            "Moi ban nhap so R: 5\n",
            "Dien tich S = 78.5\n",
            "Chu vi P = 31.4\n"
          ]
        }
      ]
    },
    {
      "cell_type": "markdown",
      "source": [
        "### Bài 3. Đổi sang giây"
      ],
      "metadata": {
        "id": "j4wBvCjrItuO"
      }
    },
    {
      "cell_type": "code",
      "source": [
        "# Nhập dữ liệu\n",
        "H = int(input(\"Moi ban nhap so gio: \"))\n",
        "M = int(input(\"Moi ban nhap so phut: \"))\n",
        "S = int(input(\"Moi ban nhap so giay: \"))\n",
        "# Xử lý\n",
        "SoS = H*3600 + M*60 + S\n",
        "# Xuất dữ liệu\n",
        "print(f\"Tong so giay cua 1:20:10 la = {SoS:.0f} giay\")"
      ],
      "metadata": {
        "colab": {
          "base_uri": "https://localhost:8080/"
        },
        "id": "JQdo_cjEGy5E",
        "outputId": "7cceb907-803a-4a6b-c84d-7e24b7d10e5b"
      },
      "execution_count": 19,
      "outputs": [
        {
          "output_type": "stream",
          "name": "stdout",
          "text": [
            "Moi ban nhap so gio: 1\n",
            "Moi ban nhap so phut: 20\n",
            "Moi ban nhap so giay: 10\n",
            "Tong so giay cua 1:20:10 la = 4810 giay\n"
          ]
        }
      ]
    },
    {
      "cell_type": "markdown",
      "source": [
        "### Bài 4. Đổi sang giờ phút giây"
      ],
      "metadata": {
        "id": "uhTgV8F5I0Lg"
      }
    },
    {
      "cell_type": "code",
      "source": [
        "# Nhập dữ liệu\n",
        "t = int(input(\"Moi ban nhap so giay: \"))\n",
        "H = t // 3600\n",
        "M = (t % 3600 ) // 60\n",
        "S = t % 60\n",
        "# Xử lý\n",
        "print(f\"{t} giay co dang {H}:{M}:{S}\")"
      ],
      "metadata": {
        "colab": {
          "base_uri": "https://localhost:8080/"
        },
        "id": "VOIYIgFMIVh3",
        "outputId": "d7b00a7c-e6cb-4744-cb99-1fe51b184358"
      },
      "execution_count": 30,
      "outputs": [
        {
          "output_type": "stream",
          "name": "stdout",
          "text": [
            "Moi ban nhap so giay: 4810\n",
            "4810 giay co dang 1:20:10\n"
          ]
        }
      ]
    },
    {
      "cell_type": "code",
      "source": [],
      "metadata": {
        "id": "e_BSG8-tI7oq"
      },
      "execution_count": 30,
      "outputs": []
    }
  ]
}