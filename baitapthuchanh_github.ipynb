{
  "nbformat": 4,
  "nbformat_minor": 0,
  "metadata": {
    "colab": {
      "provenance": [],
      "authorship_tag": "ABX9TyOYF6C+OFojdpPS/Bz1K+4X",
      "include_colab_link": true
    },
    "kernelspec": {
      "name": "python3",
      "display_name": "Python 3"
    },
    "language_info": {
      "name": "python"
    }
  },
  "cells": [
    {
      "cell_type": "markdown",
      "metadata": {
        "id": "view-in-github",
        "colab_type": "text"
      },
      "source": [
        "<a href=\"https://colab.research.google.com/github/phuocsu05/sule.github.io/blob/main/baitapthuchanh_github.ipynb\" target=\"_parent\"><img src=\"https://colab.research.google.com/assets/colab-badge.svg\" alt=\"Open In Colab\"/></a>"
      ]
    },
    {
      "cell_type": "markdown",
      "source": [
        "#BÀI TẬP THỰC HÀNH CÁC THÀNH PHẦN CƠ BẢN CỦA PYTHON"
      ],
      "metadata": {
        "id": "usCy4ANIBzJC"
      }
    },
    {
      "cell_type": "markdown",
      "source": [
        "## BÀI TẬP MẪU"
      ],
      "metadata": {
        "id": "0TOVPa8YFOEp"
      }
    },
    {
      "cell_type": "markdown",
      "source": [
        "### Bài 1 In chuỗi\n"
      ],
      "metadata": {
        "id": "7uZVR4k-CXkk"
      }
    },
    {
      "cell_type": "code",
      "source": [
        "print(\"Whoever is happy will make others happy too\");\n",
        "print(\"--Anne Frank\");"
      ],
      "metadata": {
        "colab": {
          "base_uri": "https://localhost:8080/"
        },
        "id": "ls5fR4teBsWd",
        "outputId": "d604c1dd-59a9-4b02-9a28-ba9bb9b16d35"
      },
      "execution_count": null,
      "outputs": [
        {
          "output_type": "stream",
          "name": "stdout",
          "text": [
            "Whoever is happy will make others happy too\n",
            "--Anne Frank\n"
          ]
        }
      ]
    },
    {
      "cell_type": "markdown",
      "source": [
        "### Bài 2 Biểu thức tính toán"
      ],
      "metadata": {
        "id": "RQU3T_CwCfrt"
      }
    },
    {
      "cell_type": "code",
      "source": [
        "# Nhập dữ liệu\n",
        "a = int(input(\"Moi ban nhap so a: \"))\n",
        "b = int(input(\"Moi ban nhap so b: \"))\n",
        "# Xử lý\n",
        "kqCong = a + b\n",
        "kqTru = a - b\n",
        "kqNhan = a * b\n",
        "kqChiaNguyen = a // b\n",
        "kqDu= a % b\n",
        "kqChiaThuc = a / b\n",
        "# Xuất dữ liệu\n",
        "print(\"Cac ket qua tinh toan: \")\n",
        "print(\"%-5d + %5d = %5d\"%(a, b, kqCong))\n",
        "print(\"%-5d - %5d = %5d\"%(a, b, kqTru))\n",
        "print(\"%-5d * %5d = %5d\"%(a, b, kqNhan))\n",
        "print(\"%-5d / %5d = %5d\"%(a, b, kqChiaNguyen))\n",
        "print(\"%-5d / %5d = %5d\"%(a, b, kqDu))\n",
        "print(\"%-5d / %5d = %5.2f\"%(a, b, kqChiaThuc))"
      ],
      "metadata": {
        "colab": {
          "base_uri": "https://localhost:8080/"
        },
        "id": "cu3HumFpBtMn",
        "outputId": "6739571f-82ee-476a-acb1-305a8380bcfb"
      },
      "execution_count": null,
      "outputs": [
        {
          "output_type": "stream",
          "name": "stdout",
          "text": [
            "Moi ban nhap so a: 5\n",
            "Moi ban nhap so b: 6\n",
            "Cac ket qua tinh toan: \n",
            "5     +     6 =    11\n",
            "5     -     6 =    -1\n",
            "5     *     6 =    30\n",
            "5     /     6 =     0\n",
            "5     /     6 =     5\n",
            "5     /     6 =  0.83\n"
          ]
        }
      ]
    },
    {
      "cell_type": "markdown",
      "source": [
        "### Bài 3 Biểu thức so sánh"
      ],
      "metadata": {
        "id": "xsaFDNHHCn64"
      }
    },
    {
      "cell_type": "code",
      "source": [
        "# Nhập dữ liệu\n",
        "a = float(input(\"Moi ban nhap so a: \"))\n",
        "b = float(input(\"Moi ban nhap so b: \"))\n",
        "# Xử lý\n",
        "laNhoHon = (a < b)\n",
        "laNhoHonBang = (a <= b)\n",
        "laLonHon = (a > b)\n",
        "laLonHonBang = (a >= b)\n",
        "laBang = (a == b)\n",
        "laKhacNhau = (a != b)\n",
        "# Xuất dữ liệu\n",
        "print(\"Ket qua so sanh hai so thuc %.2f va %.2f:\"%(a, b))\n",
        "print(\"%-8.2f < %8.2f: %8s\"%(a, b, laNhoHon))\n",
        "print(\"%-8.2f <= %8.2f: %8s\"%(a, b, laNhoHonBang))\n",
        "print(\"%-8.2f > %8.2f: %8s\"%(a, b, laLonHon))\n",
        "print(\"%-8.2f >= %8.2f: %8s\"%(a, b, laLonHonBang))\n",
        "print(\"%-8.2f == %8.2f: %8s\"%(a, b, laBang))\n",
        "print(\"%-8.2f != %8.2f: %8s\"%(a, b, laKhacNhau))"
      ],
      "metadata": {
        "colab": {
          "base_uri": "https://localhost:8080/"
        },
        "id": "GqUDdWLFB_At",
        "outputId": "4fde5205-cc5c-4ab7-af0c-9899deb0c99b"
      },
      "execution_count": null,
      "outputs": [
        {
          "output_type": "stream",
          "name": "stdout",
          "text": [
            "Moi ban nhap so a: 2.5\n",
            "Moi ban nhap so b: 6.8\n",
            "Ket qua so sanh hai so thuc 2.50 va 6.80:\n",
            "2.50     <     6.80:     True\n",
            "2.50     <=     6.80:     True\n",
            "2.50     >     6.80:    False\n",
            "2.50     >=     6.80:    False\n",
            "2.50     ==     6.80:    False\n",
            "2.50     !=     6.80:     True\n"
          ]
        }
      ]
    },
    {
      "cell_type": "markdown",
      "source": [
        "### Bài 4 Tính giá trị hàm số"
      ],
      "metadata": {
        "id": "fnBpySx4Ct4_"
      }
    },
    {
      "cell_type": "code",
      "source": [
        "# Nạp thư viện\n",
        "import math\n",
        "# Nhập dữ liệu\n",
        "x = float(input(\"Moi ban nhap vao gia tri cua bien so x: \"))\n",
        "# Xử lý\n",
        "fx = x + math.pow(x, 5) / (1 * 2 * 3 * 4 * 5) + \\\n",
        "math.sqrt(abs(x)) / math.pow(x, 3.0 / 2)\n",
        "# Xuất dữ liệu\n",
        "print(\"Gia tri cua ham so f(%.2f) = %.2f.\"%(x, fx))"
      ],
      "metadata": {
        "colab": {
          "base_uri": "https://localhost:8080/"
        },
        "id": "pKuz66nCCKLp",
        "outputId": "9cdbda34-d71f-4fe3-8404-03797645554f"
      },
      "execution_count": null,
      "outputs": [
        {
          "output_type": "stream",
          "name": "stdout",
          "text": [
            "Moi ban nhap vao gia tri cua bien so x: 2.3\n",
            "Gia tri cua ham so f(2.30) = 3.27.\n"
          ]
        }
      ]
    },
    {
      "cell_type": "markdown",
      "source": [
        "### Bài 5 Tổng chữ số"
      ],
      "metadata": {
        "id": "mpnLcvv6C3Og"
      }
    },
    {
      "cell_type": "code",
      "source": [
        "# Nhập dữ liệu\n",
        "n = int(input(\"Moi ban nhap so nguyen n (co bon chu so): \"))\n",
        "# Xử lý\n",
        "a = n // 1000\n",
        "b = (n // 100) % 10\n",
        "c = (n // 10) % 10\n",
        "d = n % 10\n",
        "s = a + b + c + d\n",
        "# Xuất dữ liệ\n",
        "print(f\"{n} = {a} + {b} + {c} + {d} = {s}.\")"
      ],
      "metadata": {
        "colab": {
          "base_uri": "https://localhost:8080/"
        },
        "id": "6SA2ePAwCziI",
        "outputId": "c57982e7-d75e-45a7-8207-05f270e34d75"
      },
      "execution_count": null,
      "outputs": [
        {
          "output_type": "stream",
          "name": "stdout",
          "text": [
            "Moi ban nhap so nguyen n (co bon chu so): 1234\n",
            "1234 = 1 + 2 + 3 + 4 = 10.\n"
          ]
        }
      ]
    },
    {
      "cell_type": "markdown",
      "source": [
        "## BÀI TẬP THỰC HÀNH"
      ],
      "metadata": {
        "id": "byhh8Py0FT9A"
      }
    },
    {
      "cell_type": "markdown",
      "source": [
        "### Bài 1. In nhãn\n",
        "\n",
        "\n"
      ],
      "metadata": {
        "id": "x-A3UkRVF1K4"
      }
    },
    {
      "cell_type": "code",
      "source": [
        "print(\"************************** \");\n",
        "print(\"* Truong: Dai Hoc UEH    * \");\n",
        "print(\"* Khoa: CNTT             * \");\n",
        "print(\"* Ho ten:                * \");\n",
        "print(\"************************** \");"
      ],
      "metadata": {
        "colab": {
          "base_uri": "https://localhost:8080/"
        },
        "id": "baQW82BlC-E5",
        "outputId": "6437289b-3811-4b5d-8ef3-787f9777fd4b"
      },
      "execution_count": null,
      "outputs": [
        {
          "output_type": "stream",
          "name": "stdout",
          "text": [
            "************************** \n",
            "* Truong: Dai Hoc UEH    * \n",
            "* Khoa: CNTT             * \n",
            "* Ho ten:                * \n",
            "************************** \n"
          ]
        }
      ]
    },
    {
      "cell_type": "markdown",
      "source": [
        "### Bài 2. Tính diện tích và chu vi hình tròn"
      ],
      "metadata": {
        "id": "EYv55We9F5hX"
      }
    },
    {
      "cell_type": "code",
      "source": [
        "# Nhập dữ liệu\n",
        "R = int(input(\"Moi ban nhap so R: \"))\n",
        "# Xử lý\n",
        "S = 3.14*R**2\n",
        "P = 2*3.14*R\n",
        "# Xuất dữ liệu\n",
        "print(f\"Dien tich S = {S:.1f}\")\n",
        "print(f\"Chu vi P = {P:.1f}\")"
      ],
      "metadata": {
        "colab": {
          "base_uri": "https://localhost:8080/"
        },
        "id": "dB7bd3N5Fjb9",
        "outputId": "67233cb4-81a7-4a53-a59c-903c8cb062dc"
      },
      "execution_count": null,
      "outputs": [
        {
          "output_type": "stream",
          "name": "stdout",
          "text": [
            "Moi ban nhap so R: 5\n",
            "Dien tich S = 78.5\n",
            "Chu vi P = 31.4\n"
          ]
        }
      ]
    },
    {
      "cell_type": "markdown",
      "source": [
        "### Bài 3. Đổi sang giây"
      ],
      "metadata": {
        "id": "j4wBvCjrItuO"
      }
    },
    {
      "cell_type": "code",
      "source": [
        "# Nhập dữ liệu\n",
        "H = int(input(\"Moi ban nhap so gio: \"))\n",
        "M = int(input(\"Moi ban nhap so phut: \"))\n",
        "S = int(input(\"Moi ban nhap so giay: \"))\n",
        "# Xử lý\n",
        "SoS = H*3600 + M*60 + S\n",
        "# Xuất dữ liệu\n",
        "print(f\"Tong so giay cua 1:20:10 la = {SoS:.0f} giay\")"
      ],
      "metadata": {
        "colab": {
          "base_uri": "https://localhost:8080/"
        },
        "id": "JQdo_cjEGy5E",
        "outputId": "7cceb907-803a-4a6b-c84d-7e24b7d10e5b"
      },
      "execution_count": null,
      "outputs": [
        {
          "output_type": "stream",
          "name": "stdout",
          "text": [
            "Moi ban nhap so gio: 1\n",
            "Moi ban nhap so phut: 20\n",
            "Moi ban nhap so giay: 10\n",
            "Tong so giay cua 1:20:10 la = 4810 giay\n"
          ]
        }
      ]
    },
    {
      "cell_type": "markdown",
      "source": [
        "### Bài 4. Đổi sang giờ phút giây"
      ],
      "metadata": {
        "id": "uhTgV8F5I0Lg"
      }
    },
    {
      "cell_type": "code",
      "source": [
        "# Nhập dữ liệu\n",
        "t = int(input(\"Moi ban nhap so giay: \"))\n",
        "# Xử lý\n",
        "H = t // 3600\n",
        "M = (t % 3600 ) // 60\n",
        "S = t % 60\n",
        "# Xuất dữ liệu\n",
        "print(f\"{t} giay co dang {H}:{M}:{S}\")"
      ],
      "metadata": {
        "colab": {
          "base_uri": "https://localhost:8080/"
        },
        "id": "VOIYIgFMIVh3",
        "outputId": "860da8da-4da3-43e8-a66d-3c07a12575b6"
      },
      "execution_count": null,
      "outputs": [
        {
          "output_type": "stream",
          "name": "stdout",
          "text": [
            "Moi ban nhap so giay: 4810\n",
            "4810 giay co dang 1:20:10\n"
          ]
        }
      ]
    },
    {
      "cell_type": "markdown",
      "source": [
        "### Bài 5. Tính diện tích tam giác"
      ],
      "metadata": {
        "id": "vJsR3C6-PldX"
      }
    },
    {
      "cell_type": "code",
      "source": [
        "# Nhập dữ liệu\n",
        "a = int(input(\"Moi ban nhap do dai canh a: \"))\n",
        "b = int(input(\"Moi ban nhap do dai canh b: \"))\n",
        "c = int(input(\"Moi ban nhap do dai canh c: \"))\n",
        "# Xử lý\n",
        "p = (a + b + c)/2\n",
        "S = (p*(p-a)*(p-b)*(p-c))**(1/2)\n",
        "# Xuất dữ liệu\n",
        "print(f\"Dien tich tam giac S = {S:.2f}\")"
      ],
      "metadata": {
        "colab": {
          "base_uri": "https://localhost:8080/"
        },
        "id": "e_BSG8-tI7oq",
        "outputId": "ea404e7f-18f6-46e9-b152-544e998b0f78"
      },
      "execution_count": null,
      "outputs": [
        {
          "output_type": "stream",
          "name": "stdout",
          "text": [
            "Moi ban nhap do dai canh a: 2\n",
            "Moi ban nhap do dai canh b: 4\n",
            "Moi ban nhap do dai canh c: 3\n",
            "Dien tich tam giac S = 2.90\n"
          ]
        }
      ]
    },
    {
      "cell_type": "markdown",
      "source": [
        "### Bài 6. Hàm mũ"
      ],
      "metadata": {
        "id": "BIft4vQcRDd7"
      }
    },
    {
      "cell_type": "code",
      "source": [
        "# Nhập dữ liệu\n",
        "a = int(input(\"Moi ban nhap so thuc a: \"))\n",
        "n = int(input(\"Moi ban nhap so mu n: \"))\n",
        "# Xử lý\n",
        "ketqua = a ** n\n",
        "# Xuất dữ liệu\n",
        "print(f\"Ket qua 2^4 = {ketqua}\")"
      ],
      "metadata": {
        "colab": {
          "base_uri": "https://localhost:8080/"
        },
        "id": "ImCRv6ubPs4N",
        "outputId": "cfa529dc-7260-4c67-96db-89c25a757353"
      },
      "execution_count": null,
      "outputs": [
        {
          "output_type": "stream",
          "name": "stdout",
          "text": [
            "Moi ban nhap so thuc a: 2\n",
            "Moi ban nhap so mu n: 4\n",
            "Ket qua 2^4 = 16\n"
          ]
        }
      ]
    },
    {
      "cell_type": "markdown",
      "source": [
        "### Bài 7. Đảo số"
      ],
      "metadata": {
        "id": "A_WwfVrySPHk"
      }
    },
    {
      "cell_type": "code",
      "source": [
        "# Nhập dữ liệu\n",
        "a = int(input(\"Moi ban nhap so nguyen a (co bon chu so): \"))\n",
        "# Xử lý\n",
        "A = str(a)\n",
        "y = A[::-1]\n",
        "# Xuất dữ liệu\n",
        "print(f\"So dao cua {x} la {y}\")"
      ],
      "metadata": {
        "colab": {
          "base_uri": "https://localhost:8080/"
        },
        "id": "uTw4zLPoRfgN",
        "outputId": "12e682f2-a0e7-4f23-a902-aeeb47703ffa"
      },
      "execution_count": null,
      "outputs": [
        {
          "output_type": "stream",
          "name": "stdout",
          "text": [
            "Moi ban nhap so nguyen a (co bon chu so): 1234\n",
            "So dao cua 1234.0 la 4321\n"
          ]
        }
      ]
    },
    {
      "cell_type": "markdown",
      "source": [
        "### Bài 8. Độ sang Radian"
      ],
      "metadata": {
        "id": "8YSi6z5YVjAy"
      }
    },
    {
      "cell_type": "code",
      "source": [
        "import math\n",
        "# Nhập dữ liệu\n",
        "degree = float(input(\"Nhap so do:\"))\n",
        "# Xử lý\n",
        "radian = degree * math.pi / 180\n",
        "# Xuất dữ liệu\n",
        "print(f\"{degree} do = {radian:.2f} radian\")"
      ],
      "metadata": {
        "colab": {
          "base_uri": "https://localhost:8080/"
        },
        "id": "pg_PHnQdTYqi",
        "outputId": "89bf4fdd-c88f-4632-bcf3-b07079774508"
      },
      "execution_count": null,
      "outputs": [
        {
          "output_type": "stream",
          "name": "stdout",
          "text": [
            "Nhap so do:120\n",
            "120.0 do = 2.09 radian\n"
          ]
        }
      ]
    },
    {
      "cell_type": "markdown",
      "source": [
        "### Bài 9. Hàm số 1\n"
      ],
      "metadata": {
        "id": "43Me1HcMWg1A"
      }
    },
    {
      "cell_type": "code",
      "source": [
        "import math\n",
        "# Nhập dữ liệu\n",
        "x = float(input(\"Nhap so thuc x: \"))\n",
        "# Xử lý\n",
        "y1 = 4 * (x**2 + 10*x*math.sqrt(x) + 3*x + 1)\n",
        "y2 = (math.sin(math.pi * x**2) + math.sqrt(x**2 + 1)) / (math.e**(2*x) + math.cos((math.pi/4) * x))\n",
        "# Xuất dữ liệu\n",
        "print(f\"y1 = {y1:.2f}\")\n",
        "print(f\"y2 = {y2:.2f}\")"
      ],
      "metadata": {
        "colab": {
          "base_uri": "https://localhost:8080/"
        },
        "id": "bKTxQhv0XEar",
        "outputId": "204ee872-5e29-46c5-d161-2e67668350a8"
      },
      "execution_count": null,
      "outputs": [
        {
          "output_type": "stream",
          "name": "stdout",
          "text": [
            "Nhap so thuc x: 123\n",
            "y1 = 116561.44\n",
            "y2 = 0.00\n"
          ]
        }
      ]
    },
    {
      "cell_type": "markdown",
      "source": [
        "### Bài 10. Khoảng cách"
      ],
      "metadata": {
        "id": "pCScdx4-XXZn"
      }
    },
    {
      "cell_type": "code",
      "source": [
        "import math\n",
        "# Nhập dữ liệu\n",
        "x1 = float(input(\"Nhap x1: \"))\n",
        "y1 = float(input(\"Nhap y1: \"))\n",
        "x2 = float(input(\"Nhap x2: \"))\n",
        "y2 = float(input(\"Nhap y2: \"))\n",
        "# Xử lý\n",
        "d = math.sqrt((x2 - x1)**2 + (y2 - y1)**2)\n",
        "# Xuất dữ liệu2\n",
        "print(f\"Khoang cach giua A({x1},{y1}) va B({x2},{y2}) la: {d:.2f}\")"
      ],
      "metadata": {
        "colab": {
          "base_uri": "https://localhost:8080/"
        },
        "id": "FiIjbN4kW20G",
        "outputId": "07665aa4-bf30-4815-e1c4-760f3365869f"
      },
      "execution_count": null,
      "outputs": [
        {
          "output_type": "stream",
          "name": "stdout",
          "text": [
            "Nhap x1: 1\n",
            "Nhap y1: 2\n",
            "Nhap x2: 3\n",
            "Nhap y2: 4\n",
            "Khoang cach giua A(1.0,2.0) va B(3.0,4.0) la: 2.83\n"
          ]
        }
      ]
    },
    {
      "cell_type": "code",
      "source": [],
      "metadata": {
        "id": "0Zvb8o5PXe4Q"
      },
      "execution_count": null,
      "outputs": []
    }
  ]
}